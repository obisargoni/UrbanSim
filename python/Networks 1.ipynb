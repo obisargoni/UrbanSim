{
 "cells": [
  {
   "cell_type": "markdown",
   "metadata": {},
   "source": [
    "# Urban Simulation Networks 1 \n",
    "## Networkx Examples"
   ]
  },
  {
   "cell_type": "markdown",
   "metadata": {},
   "source": [
    " This code shows you how to use NetworkX for basic network manipulations:\n",
    " \n",
    " 1) how to create a graph\n",
    " \n",
    " 2) how to create the edge list and adjacency matrix for undirected, directed, weighted and unweighted networks\n",
    " \n",
    " 3) Compute the degree of nodes, the number of nodes and of links \n",
    " \n",
    " NetworkX is an established Python library for network analysis. It is used by the OSMnx package (https://github.com/gboeing/osmnx) which can retrieve, construct, analyze, and visualize street networks from OpenStreetMap.\n",
    " \n",
    " You will need to have installed the packages\n",
    " NetworkX - For creating and anlaysing networks\n",
    " Matplotlib - For drawing networks\n",
    " \n",
    " * Diameter of directed network - raises exception in Networkx, gives value in iGraph. Need to check why iGraph value is two\n",
    " * Drawing MultiGraph does not show multiple edges between nodes. The Graphviz package might be able to do this.\n",
    "* I didn't understand this comment about loops:\n",
    " !!! warning for loops!!!!!!\n",
    " The adjacency matrix in iGraph does NOT need a 2 for the loop only for the theoretical computation\n",
    " compare the result for degree with k_i=sum_j(A_ij)"
   ]
  },
  {
   "cell_type": "code",
   "execution_count": 1,
   "metadata": {},
   "outputs": [],
   "source": [
    "import numpy as np\n",
    "import networkx as nx\n",
    "import matplotlib.pyplot as plt"
   ]
  },
  {
   "cell_type": "code",
   "execution_count": 2,
   "metadata": {},
   "outputs": [],
   "source": [
    "# Tell matplotlib to show plots within the notebook\n",
    "%matplotlib inline"
   ]
  },
  {
   "cell_type": "code",
   "execution_count": 3,
   "metadata": {},
   "outputs": [],
   "source": [
    "# Craete exmple graph from Newmans book\n",
    "g1 = nx.Graph()\n",
    "\n",
    "# Add some nodes and edges to the graph - this automatically creates nodes as well\n",
    "edges1 = [(1,2), (2,3), (2,4), (3,4), (3,5), (1,5), (3,6)]\n",
    "g1.add_edges_from(edges1)"
   ]
  },
  {
   "cell_type": "code",
   "execution_count": 4,
   "metadata": {},
   "outputs": [
    {
     "name": "stderr",
     "output_type": "stream",
     "text": [
      "C:\\Users\\Obi Sargoni\\Anaconda3\\lib\\site-packages\\networkx\\drawing\\nx_pylab.py:611: MatplotlibDeprecationWarning: isinstance(..., numbers.Number)\n",
      "  if cb.is_numlike(alpha):\n"
     ]
    },
    {
     "data": {
      "image/png": "[encoded data removed]",
      "text/plain": [
       "<Figure size 432x288 with 1 Axes>"
      ]
     },
     "metadata": {},
     "output_type": "display_data"
    }
   ],
   "source": [
    "# This command uses matplotlib to draw the graph\n",
    "nx.draw(g1, with_labels=True)\n",
    "\n",
    "# Warnings are raised due to the NetworkX package usinga  deprecaiated Matplotlib \n",
    "# command"
   ]
  },
  {
   "cell_type": "code",
   "execution_count": 5,
   "metadata": {},
   "outputs": [
    {
     "data": {
      "text/plain": [
       "NodeView((1, 2, 3, 4, 5, 6))"
      ]
     },
     "execution_count": 5,
     "metadata": {},
     "output_type": "execute_result"
    }
   ],
   "source": [
    "# Get the Graph's nodes\n",
    "g1.nodes()"
   ]
  },
  {
   "cell_type": "code",
   "execution_count": 6,
   "metadata": {},
   "outputs": [
    {
     "data": {
      "text/plain": [
       "EdgeView([(1, 2), (1, 5), (2, 3), (2, 4), (3, 4), (3, 5), (3, 6)])"
      ]
     },
     "execution_count": 6,
     "metadata": {},
     "output_type": "execute_result"
    }
   ],
   "source": [
    "# Get the graph's edges\n",
    "g1.edges()"
   ]
  },
  {
   "cell_type": "code",
   "execution_count": 7,
   "metadata": {},
   "outputs": [
    {
     "name": "stdout",
     "output_type": "stream",
     "text": [
      "[[1 2]\n",
      " [1 5]\n",
      " [2 3]\n",
      " [2 4]\n",
      " [3 4]\n",
      " [3 5]\n",
      " [3 6]]\n",
      "[1 5]\n",
      "1\n"
     ]
    }
   ],
   "source": [
    "# Store the graph's edges as an array\n",
    "edgeArray = np.array(g1.edges())\n",
    "print(edgeArray) # Prints the array\n",
    "print(edgeArray[1]) # Prints the 2nd edge in the array\n",
    "print(edgeArray[1][0]) # Prints one of the nodes the 2nd edge conencts to"
   ]
  },
  {
   "cell_type": "code",
   "execution_count": 8,
   "metadata": {},
   "outputs": [
    {
     "data": {
      "text/plain": [
       "AdjacencyView({1: {2: {}, 5: {}}, 2: {1: {}, 3: {}, 4: {}}, 3: {2: {}, 4: {}, 5: {}, 6: {}}, 4: {2: {}, 3: {}}, 5: {3: {}, 1: {}}, 6: {3: {}}})"
      ]
     },
     "execution_count": 8,
     "metadata": {},
     "output_type": "execute_result"
    }
   ],
   "source": [
    "# Get dictionary of node adjacency\n",
    "g1.adj"
   ]
  },
  {
   "cell_type": "code",
   "execution_count": 9,
   "metadata": {},
   "outputs": [
    {
     "data": {
      "text/plain": [
       "<6x6 sparse matrix of type '<class 'numpy.int32'>'\n",
       "\twith 14 stored elements in Compressed Sparse Row format>"
      ]
     },
     "execution_count": 9,
     "metadata": {},
     "output_type": "execute_result"
    }
   ],
   "source": [
    "# Get the adjacency matrix. Returns a SciPy sparse matrix object\n",
    "g1_adj = nx.adjacency_matrix(g1)\n",
    "g1_adj"
   ]
  },
  {
   "cell_type": "code",
   "execution_count": 10,
   "metadata": {},
   "outputs": [
    {
     "name": "stdout",
     "output_type": "stream",
     "text": [
      "  (0, 0)\t1\n",
      "  (0, 2)\t1\n",
      "  (0, 3)\t1\n"
     ]
    }
   ],
   "source": [
    "# To view elements of a sparse matrix use print() function\n",
    "# Will only print non-zero elements since it is a sparse matrix\n",
    "print(g1_adj[1])"
   ]
  },
  {
   "cell_type": "code",
   "execution_count": 11,
   "metadata": {},
   "outputs": [
    {
     "name": "stdout",
     "output_type": "stream",
     "text": [
      "0\n"
     ]
    }
   ],
   "source": [
    "# Will show zero elements if specifically requested\n",
    "print(g1_adj[1,5])"
   ]
  },
  {
   "cell_type": "code",
   "execution_count": 12,
   "metadata": {},
   "outputs": [
    {
     "data": {
      "text/plain": [
       "matrix([[0, 1, 0, 0, 1, 0],\n",
       "        [1, 0, 1, 1, 0, 0],\n",
       "        [0, 1, 0, 1, 1, 1],\n",
       "        [0, 1, 1, 0, 0, 0],\n",
       "        [1, 0, 1, 0, 0, 0],\n",
       "        [0, 0, 1, 0, 0, 0]], dtype=int32)"
      ]
     },
     "execution_count": 12,
     "metadata": {},
     "output_type": "execute_result"
    }
   ],
   "source": [
    "# Alternatively can convert to a dense matrix object, but this will take up \n",
    "# more memory\n",
    "g1_adj_dense = g1_adj.todense()\n",
    "g1_adj_dense"
   ]
  },
  {
   "cell_type": "code",
   "execution_count": 13,
   "metadata": {},
   "outputs": [
    {
     "data": {
      "text/plain": [
       "matrix([[0, 1, 0, 0, 1, 0]], dtype=int32)"
      ]
     },
     "execution_count": 13,
     "metadata": {},
     "output_type": "execute_result"
    }
   ],
   "source": [
    "g1_adj_dense[0]"
   ]
  },
  {
   "cell_type": "code",
   "execution_count": 14,
   "metadata": {},
   "outputs": [
    {
     "data": {
      "text/plain": [
       "1"
      ]
     },
     "execution_count": 14,
     "metadata": {},
     "output_type": "execute_result"
    }
   ],
   "source": [
    "g1_adj_dense[0,4] # Gives weight of connection between node 1 and 5"
   ]
  },
  {
   "cell_type": "code",
   "execution_count": 15,
   "metadata": {},
   "outputs": [
    {
     "data": {
      "text/plain": [
       "DegreeView({1: 2, 2: 3, 3: 4, 4: 2, 5: 2, 6: 1})"
      ]
     },
     "execution_count": 15,
     "metadata": {},
     "output_type": "execute_result"
    }
   ],
   "source": [
    "# Get the degree of each node\n",
    "g1.degree(nbunch = None, weight = None)"
   ]
  },
  {
   "cell_type": "code",
   "execution_count": 16,
   "metadata": {},
   "outputs": [
    {
     "data": {
      "text/plain": [
       "3"
      ]
     },
     "execution_count": 16,
     "metadata": {},
     "output_type": "execute_result"
    }
   ],
   "source": [
    "# Graph diameter\n",
    "nx.diameter(g1)"
   ]
  },
  {
   "cell_type": "code",
   "execution_count": 17,
   "metadata": {},
   "outputs": [
    {
     "data": {
      "image/png": "[encoded data removed]",
      "text/plain": [
       "<Figure size 432x288 with 1 Axes>"
      ]
     },
     "metadata": {},
     "output_type": "display_data"
    }
   ],
   "source": [
    "# Networks can be created using letters instead of numbers\n",
    "\n",
    "# This time start with 1D array of characters, reshape into a 2D array and use\n",
    "# this as the edge list\n",
    "edges2 = np.reshape([ 'a','b', 'b','c', 'b','d', 'c','d', 'c','e', 'a','e', 'c','f'], (-1,2))\n",
    "g1n = nx.Graph()\n",
    "g1n.add_edges_from(edges2)\n",
    "nx.draw(g1n, with_labels=True)"
   ]
  },
  {
   "cell_type": "code",
   "execution_count": 18,
   "metadata": {},
   "outputs": [
    {
     "data": {
      "text/plain": [
       "NodeView(('a', 'b', 'c', 'd', 'e', 'f'))"
      ]
     },
     "execution_count": 18,
     "metadata": {},
     "output_type": "execute_result"
    }
   ],
   "source": [
    "# Get the vertices of the graph\n",
    "g1n.nodes()"
   ]
  },
  {
   "cell_type": "code",
   "execution_count": 19,
   "metadata": {},
   "outputs": [
    {
     "data": {
      "text/plain": [
       "DegreeView({'a': 2, 'b': 3, 'c': 4, 'd': 2, 'e': 2, 'f': 1})"
      ]
     },
     "execution_count": 19,
     "metadata": {},
     "output_type": "execute_result"
    }
   ],
   "source": [
    "# Get the degree of the nodes\n",
    "g1n.degree()"
   ]
  },
  {
   "cell_type": "code",
   "execution_count": 20,
   "metadata": {},
   "outputs": [
    {
     "data": {
      "text/plain": [
       "3"
      ]
     },
     "execution_count": 20,
     "metadata": {},
     "output_type": "execute_result"
    }
   ],
   "source": [
    "# Get the diameter of the graph\n",
    "nx.diameter(g1n)"
   ]
  },
  {
   "cell_type": "code",
   "execution_count": 21,
   "metadata": {},
   "outputs": [
    {
     "data": {
      "image/png": "[encoded data removed]",
      "text/plain": [
       "<Figure size 432x288 with 1 Axes>"
      ]
     },
     "metadata": {},
     "output_type": "display_data"
    }
   ],
   "source": [
    "# Create a graph with multiedges and self edges. \n",
    "# For this we need to use the MultiGraph function\n",
    "g2 = nx.MultiGraph()\n",
    "g2.add_edges_from([(1,2), (2,2), (2,3), (2,3), (2,4), (3,4), (3,5), \n",
    "                           (1,5),(1,5),(5,1), (3,6), (6,6)])\n",
    "\n",
    "# Drawing the graph does not show the multiple edges\n",
    "nx.draw(g2, with_labels=True)"
   ]
  },
  {
   "cell_type": "code",
   "execution_count": 22,
   "metadata": {},
   "outputs": [
    {
     "data": {
      "text/plain": [
       "MultiEdgeDataView([(1, 2), (1, 5), (1, 5), (1, 5), (2, 2), (2, 3), (2, 3), (2, 4), (3, 4), (3, 5), (3, 6), (6, 6)])"
      ]
     },
     "execution_count": 22,
     "metadata": {},
     "output_type": "execute_result"
    }
   ],
   "source": [
    "# But inspecting the edgelist o the graph shows that there are multiple edges\n",
    "g2.edges()"
   ]
  },
  {
   "cell_type": "code",
   "execution_count": 23,
   "metadata": {},
   "outputs": [
    {
     "data": {
      "text/plain": [
       "MultiDegreeView({1: 4, 2: 6, 3: 5, 4: 2, 5: 4, 6: 3})"
      ]
     },
     "execution_count": 23,
     "metadata": {},
     "output_type": "execute_result"
    }
   ],
   "source": [
    "# Also inspecting the degrees of nodes shows that there are multiple edges\n",
    "g2.degree()"
   ]
  },
  {
   "cell_type": "code",
   "execution_count": 24,
   "metadata": {},
   "outputs": [
    {
     "data": {
      "text/plain": [
       "MultiDegreeView({1: 4, 2: 4, 3: 5, 4: 2, 5: 4, 6: 1})"
      ]
     },
     "execution_count": 24,
     "metadata": {},
     "output_type": "execute_result"
    }
   ],
   "source": [
    "# To calculate the degree excluding self loops, make a copy of the graph and \n",
    "# remove self loops\n",
    "g2_no_sl = g2.copy()\n",
    "sles = nx.selfloop_edges(g2_no_sl)\n",
    "g2_no_sl.remove_edges_from(list(sles))\n",
    "\n",
    "# Then calculate the degrees, notice that the degree of node 6 is 1 now\n",
    "g2_no_sl.degree()"
   ]
  },
  {
   "cell_type": "code",
   "execution_count": 25,
   "metadata": {},
   "outputs": [
    {
     "name": "stdout",
     "output_type": "stream",
     "text": [
      "  (0, 1)\t1\n",
      "  (0, 4)\t3\n",
      "  (1, 0)\t1\n",
      "  (1, 1)\t1\n",
      "  (1, 2)\t2\n",
      "  (1, 3)\t1\n",
      "  (2, 1)\t2\n",
      "  (2, 3)\t1\n",
      "  (2, 4)\t1\n",
      "  (2, 5)\t1\n",
      "  (3, 1)\t1\n",
      "  (3, 2)\t1\n",
      "  (4, 0)\t3\n",
      "  (4, 2)\t1\n",
      "  (5, 2)\t1\n",
      "  (5, 5)\t1\n"
     ]
    }
   ],
   "source": [
    "# Get the adjacency matrix of the network\n",
    "g2_adj = nx.adjacency_matrix(g2)\n",
    "print(g2_adj)"
   ]
  },
  {
   "cell_type": "code",
   "execution_count": 26,
   "metadata": {},
   "outputs": [
    {
     "data": {
      "text/plain": [
       "3"
      ]
     },
     "execution_count": 26,
     "metadata": {},
     "output_type": "execute_result"
    }
   ],
   "source": [
    "# Diameter of the network again\n",
    "nx.diameter(g2)"
   ]
  },
  {
   "cell_type": "code",
   "execution_count": 27,
   "metadata": {},
   "outputs": [],
   "source": [
    "# I don't get this comment\n",
    "\n",
    "#!!! warning for loops!!!!!!\n",
    "#The adjacency matrix in iGraph does NOT need a 2 for the loop only for the theoretical computation\n",
    "#compare the result for degree with k_i=sum_j(A_ij)"
   ]
  },
  {
   "cell_type": "code",
   "execution_count": 28,
   "metadata": {},
   "outputs": [
    {
     "data": {
      "image/png": "[encoded data removed]",
      "text/plain": [
       "<Figure size 432x288 with 1 Axes>"
      ]
     },
     "metadata": {},
     "output_type": "display_data"
    }
   ],
   "source": [
    "# Create a network from an ajacency matrix\n",
    "\n",
    "adj_A = np.array([[0,1,0,0,3,0],\n",
    "                  [1,1,2,1,0,0],\n",
    "                  [0,2,0,1,1,1],\n",
    "                  [0,1,1,0,0,0],\n",
    "                  [3,0,1,0,0,0],\n",
    "                  [0,0,1,0,0,1]\n",
    "                  ])\n",
    "\n",
    "g3 = nx.from_numpy_matrix(adj_A)\n",
    "nx.draw(g3, with_labels=True)"
   ]
  },
  {
   "cell_type": "code",
   "execution_count": 29,
   "metadata": {},
   "outputs": [
    {
     "data": {
      "text/plain": [
       "EdgeView([(0, 1), (0, 4), (1, 1), (1, 2), (1, 3), (2, 3), (2, 4), (2, 5), (5, 5)])"
      ]
     },
     "execution_count": 29,
     "metadata": {},
     "output_type": "execute_result"
    }
   ],
   "source": [
    "# Again, need to check edge list or degree to confirm that multi edges and\n",
    "# self loops are included\n",
    "g3.edges()"
   ]
  },
  {
   "cell_type": "code",
   "execution_count": 30,
   "metadata": {},
   "outputs": [
    {
     "data": {
      "text/plain": [
       "DegreeView({0: 2, 1: 5, 2: 4, 3: 2, 4: 2, 5: 3})"
      ]
     },
     "execution_count": 30,
     "metadata": {},
     "output_type": "execute_result"
    }
   ],
   "source": [
    "g3.degree()"
   ]
  },
  {
   "cell_type": "code",
   "execution_count": 31,
   "metadata": {},
   "outputs": [
    {
     "data": {
      "text/plain": [
       "AdjacencyView({0: {1: {'weight': 1}, 4: {'weight': 3}}, 1: {0: {'weight': 1}, 1: {'weight': 1}, 2: {'weight': 2}, 3: {'weight': 1}}, 2: {1: {'weight': 2}, 3: {'weight': 1}, 4: {'weight': 1}, 5: {'weight': 1}}, 3: {1: {'weight': 1}, 2: {'weight': 1}}, 4: {0: {'weight': 3}, 2: {'weight': 1}}, 5: {2: {'weight': 1}, 5: {'weight': 1}}})"
      ]
     },
     "execution_count": 31,
     "metadata": {},
     "output_type": "execute_result"
    }
   ],
   "source": [
    "# In python, the adjacency matrix elemnets are used to set edge weights \n",
    "# as well as create the edges\n",
    "g3.adj"
   ]
  },
  {
   "cell_type": "code",
   "execution_count": 32,
   "metadata": {},
   "outputs": [],
   "source": [
    "# Alternatively could convert this graph to a MultiGraph which will have\n",
    "# multiple edges\n",
    "g3_multi = nx.MultiGraph()"
   ]
  },
  {
   "cell_type": "code",
   "execution_count": 33,
   "metadata": {},
   "outputs": [],
   "source": [
    "# Loop through the edges in the graph and create an edge in the multigraph for \n",
    "# each unit weight of an edge in the original graph\n",
    "\n",
    "# Iterate over the start node, end node and data for each edge in the graph\n",
    "for u,v,data in g3.edges(data=True):\n",
    "    # For each start and end node, create an edge in the new MultiGraph for\n",
    "    # unit of weight. If weight = 2 then two edges are created.\n",
    "    for i in range(data['weight']):\n",
    "        g3_multi.add_edge(u,v, weight = 1)"
   ]
  },
  {
   "cell_type": "code",
   "execution_count": 34,
   "metadata": {},
   "outputs": [
    {
     "data": {
      "text/plain": [
       "MultiEdgeDataView([(0, 1, {'weight': 1}), (0, 4, {'weight': 1}), (0, 4, {'weight': 1}), (0, 4, {'weight': 1}), (1, 1, {'weight': 1}), (1, 2, {'weight': 1}), (1, 2, {'weight': 1}), (1, 3, {'weight': 1}), (4, 2, {'weight': 1}), (2, 3, {'weight': 1}), (2, 5, {'weight': 1}), (5, 5, {'weight': 1})])"
      ]
     },
     "execution_count": 34,
     "metadata": {},
     "output_type": "execute_result"
    }
   ],
   "source": [
    "# We now have a MultiGraph where the weighted edges of the Graph object have\n",
    "# been converted into multiple edges.\n",
    "# This is the same information stored in a slightly different way.\n",
    "g3_multi.edges(data=True)"
   ]
  },
  {
   "cell_type": "code",
   "execution_count": 35,
   "metadata": {},
   "outputs": [
    {
     "data": {
      "text/plain": [
       "DegreeView({0: 4, 1: 6, 2: 5, 3: 2, 4: 4, 5: 3})"
      ]
     },
     "execution_count": 35,
     "metadata": {},
     "output_type": "execute_result"
    }
   ],
   "source": [
    "# When calculating the degree, you may want to include the weight in the \n",
    "# calculation to account of the self-loops and multiple edges connecting nodes \n",
    "g3.degree(weight = 'weight')"
   ]
  },
  {
   "cell_type": "code",
   "execution_count": 36,
   "metadata": {},
   "outputs": [
    {
     "data": {
      "text/plain": [
       "MultiDegreeView({0: 4, 1: 6, 4: 4, 2: 5, 3: 2, 5: 3})"
      ]
     },
     "execution_count": 36,
     "metadata": {},
     "output_type": "execute_result"
    }
   ],
   "source": [
    "# Using the MultiGraph object we don't need to specify a weight because all the\n",
    "# weights were set to 1\n",
    "g3_multi.degree()"
   ]
  },
  {
   "cell_type": "code",
   "execution_count": 37,
   "metadata": {},
   "outputs": [
    {
     "data": {
      "text/plain": [
       "3"
      ]
     },
     "execution_count": 37,
     "metadata": {},
     "output_type": "execute_result"
    }
   ],
   "source": [
    "# Diameter calculation in python the same regarless of weights used\n",
    "nx.diameter(g3)"
   ]
  },
  {
   "cell_type": "code",
   "execution_count": 38,
   "metadata": {},
   "outputs": [
    {
     "data": {
      "text/plain": [
       "3"
      ]
     },
     "execution_count": 38,
     "metadata": {},
     "output_type": "execute_result"
    }
   ],
   "source": [
    "nx.diameter(g3_multi)"
   ]
  },
  {
   "cell_type": "code",
   "execution_count": 39,
   "metadata": {},
   "outputs": [
    {
     "data": {
      "text/plain": [
       "matrix([[0, 1, 0, 0, 3, 0],\n",
       "        [1, 1, 2, 1, 0, 0],\n",
       "        [0, 2, 0, 1, 1, 1],\n",
       "        [0, 1, 1, 0, 0, 0],\n",
       "        [3, 0, 1, 0, 0, 0],\n",
       "        [0, 0, 1, 0, 0, 1]], dtype=int32)"
      ]
     },
     "execution_count": 39,
     "metadata": {},
     "output_type": "execute_result"
    }
   ],
   "source": [
    "# Check the adjacency matrices for g3 and g3_multi. the adjacency matrix is the\n",
    "# same. These networks have the same information.\n",
    "nx.adjacency_matrix(g3).todense()"
   ]
  },
  {
   "cell_type": "code",
   "execution_count": 40,
   "metadata": {},
   "outputs": [
    {
     "data": {
      "text/plain": [
       "matrix([[0, 1, 3, 0, 0, 0],\n",
       "        [1, 1, 0, 2, 1, 0],\n",
       "        [3, 0, 0, 1, 0, 0],\n",
       "        [0, 2, 1, 0, 1, 1],\n",
       "        [0, 1, 0, 1, 0, 0],\n",
       "        [0, 0, 0, 1, 0, 1]], dtype=int32)"
      ]
     },
     "execution_count": 40,
     "metadata": {},
     "output_type": "execute_result"
    }
   ],
   "source": [
    "nx.adjacency_matrix(g3_multi).todense()"
   ]
  },
  {
   "cell_type": "code",
   "execution_count": 41,
   "metadata": {},
   "outputs": [],
   "source": [
    "# Going back to the graph with weights, g3, lets draw this graph and indicate\n",
    "# the weights of the edges\n",
    "\n",
    "# Get the positions of the edges\n",
    "pos = nx.spring_layout(g3)\n",
    "\n",
    "# Get the edge weights to add to the drawing\n",
    "edges_labels = nx.get_edge_attributes(g3, 'weight')"
   ]
  },
  {
   "cell_type": "code",
   "execution_count": 42,
   "metadata": {},
   "outputs": [
    {
     "data": {
      "text/plain": [
       "{0: array([0.29692506, 1.        ]),\n",
       " 1: array([0.44395004, 0.07038635]),\n",
       " 2: array([-0.16727525, -0.24867186]),\n",
       " 3: array([ 0.59606853, -0.70219298]),\n",
       " 4: array([-0.20875787,  0.79263825]),\n",
       " 5: array([-0.96091051, -0.91215976])}"
      ]
     },
     "execution_count": 42,
     "metadata": {},
     "output_type": "execute_result"
    }
   ],
   "source": [
    "pos"
   ]
  },
  {
   "cell_type": "code",
   "execution_count": 43,
   "metadata": {},
   "outputs": [
    {
     "data": {
      "text/plain": [
       "{(0, 1): 1,\n",
       " (0, 4): 3,\n",
       " (1, 1): 1,\n",
       " (1, 2): 2,\n",
       " (1, 3): 1,\n",
       " (2, 3): 1,\n",
       " (2, 4): 1,\n",
       " (2, 5): 1,\n",
       " (5, 5): 1}"
      ]
     },
     "execution_count": 43,
     "metadata": {},
     "output_type": "execute_result"
    }
   ],
   "source": [
    "edges_labels"
   ]
  },
  {
   "cell_type": "code",
   "execution_count": 44,
   "metadata": {
    "scrolled": false
   },
   "outputs": [
    {
     "data": {
      "text/plain": [
       "{(0, 1): Text(0.37043755109421267, 0.5351931765351268, \"{'weight': 1}\"),\n",
       " (0, 4): Text(0.044083596834743125, 0.8963191263183602, \"{'weight': 3}\"),\n",
       " (1, 1): Text(0.44395003791052856, 0.07038635307025354, \"{'weight': 1}\"),\n",
       " (1, 2): Text(0.13833739255876842, -0.08914275420305588, \"{'weight': 2}\"),\n",
       " (1, 3): Text(0.5200092842340767, -0.31590331376160813, \"{'weight': 1}\"),\n",
       " (2, 3): Text(0.21439663888231647, -0.47543242103491756, \"{'weight': 1}\"),\n",
       " (2, 4): Text(-0.1880165617007011, 0.2719831955801776, \"{'weight': 1}\"),\n",
       " (2, 5): Text(-0.5640928810688197, -0.5804158125567523, \"{'weight': 1}\"),\n",
       " (5, 5): Text(-0.9609105093446478, -0.9121597636371394, \"{'weight': 1}\")}"
      ]
     },
     "execution_count": 44,
     "metadata": {},
     "output_type": "execute_result"
    },
    {
     "data": {
      "image/png": "[encoded data removed]",
      "text/plain": [
       "<Figure size 432x288 with 1 Axes>"
      ]
     },
     "metadata": {},
     "output_type": "display_data"
    }
   ],
   "source": [
    "# Now draw the graph and add in edge labels using the positions and edge \n",
    "# attributes - WARNING Matplotlib doesn't always produce a good looking figure!\n",
    "\n",
    "# Draw the graph\n",
    "nx.draw(g3, with_labels=True)\n",
    "\n",
    "# Add the weights as labels to the edges\n",
    "nx.draw_networkx_edge_labels(g3, pos, labels = edges_labels)"
   ]
  },
  {
   "cell_type": "code",
   "execution_count": 45,
   "metadata": {},
   "outputs": [
    {
     "data": {
      "image/png": "[encoded data removed]",
      "text/plain": [
       "<Figure size 432x288 with 1 Axes>"
      ]
     },
     "metadata": {},
     "output_type": "display_data"
    }
   ],
   "source": [
    "# Directed network\n",
    "\n",
    "# Create a directed graph by specifying the edges\n",
    "g_dir = nx.DiGraph()\n",
    "g_dir.add_edges_from([(1,1), (2,1), (2,3), (2,4), (3,4), (3,5), (1,5), (3,6)])\n",
    "\n",
    "# The bold line segments indicate the diection of the edge, the bold end \n",
    "# points to the destination node\n",
    "nx.draw(g_dir, with_labels=True)"
   ]
  },
  {
   "cell_type": "code",
   "execution_count": 46,
   "metadata": {},
   "outputs": [
    {
     "data": {
      "text/plain": [
       "OutEdgeView([(1, 1), (1, 5), (2, 1), (2, 3), (2, 4), (3, 4), (3, 5), (3, 6)])"
      ]
     },
     "execution_count": 46,
     "metadata": {},
     "output_type": "execute_result"
    }
   ],
   "source": [
    "g_dir.edges()"
   ]
  },
  {
   "cell_type": "code",
   "execution_count": 47,
   "metadata": {},
   "outputs": [
    {
     "data": {
      "text/plain": [
       "matrix([[1, 0, 0, 0, 1, 0],\n",
       "        [1, 0, 1, 1, 0, 0],\n",
       "        [0, 0, 0, 1, 1, 1],\n",
       "        [0, 0, 0, 0, 0, 0],\n",
       "        [0, 0, 0, 0, 0, 0],\n",
       "        [0, 0, 0, 0, 0, 0]], dtype=int32)"
      ]
     },
     "execution_count": 47,
     "metadata": {},
     "output_type": "execute_result"
    }
   ],
   "source": [
    "adj_dir = nx.adjacency_matrix(g_dir)\n",
    "adj_dir.todense()\n",
    "\n",
    "# In Networkx, if A_ij =1 link goes from i to j.\n",
    "# For example, A_21 = 1 and there is a link form node 2 to 1. \n",
    "# This differs from Newmans book in which A_ij = 1 means a link form j to i."
   ]
  },
  {
   "cell_type": "code",
   "execution_count": 48,
   "metadata": {},
   "outputs": [],
   "source": [
    "# When calculating the degree of a directed network you can either calculate\n",
    "# the 'in' degree or the 'out' degree"
   ]
  },
  {
   "cell_type": "code",
   "execution_count": 49,
   "metadata": {},
   "outputs": [
    {
     "data": {
      "text/plain": [
       "DiDegreeView({1: 4, 2: 3, 3: 4, 4: 2, 5: 2, 6: 1})"
      ]
     },
     "execution_count": 49,
     "metadata": {},
     "output_type": "execute_result"
    }
   ],
   "source": [
    "g_dir.degree()"
   ]
  },
  {
   "cell_type": "code",
   "execution_count": 50,
   "metadata": {},
   "outputs": [
    {
     "data": {
      "text/plain": [
       "InDegreeView({1: 2, 2: 0, 3: 1, 4: 2, 5: 2, 6: 1})"
      ]
     },
     "execution_count": 50,
     "metadata": {},
     "output_type": "execute_result"
    }
   ],
   "source": [
    "g_dir.in_degree()"
   ]
  },
  {
   "cell_type": "code",
   "execution_count": 51,
   "metadata": {},
   "outputs": [
    {
     "data": {
      "text/plain": [
       "OutDegreeView({1: 2, 2: 3, 3: 3, 4: 0, 5: 0, 6: 0})"
      ]
     },
     "execution_count": 51,
     "metadata": {},
     "output_type": "execute_result"
    }
   ],
   "source": [
    "g_dir.out_degree()"
   ]
  },
  {
   "cell_type": "code",
   "execution_count": 52,
   "metadata": {
    "scrolled": false
   },
   "outputs": [
    {
     "ename": "NetworkXError",
     "evalue": "Found infinite path length because the digraph is not strongly connected",
     "output_type": "error",
     "traceback": [
      "\u001b[1;31m---------------------------------------------------------------------------\u001b[0m",
      "\u001b[1;31mNetworkXError\u001b[0m                             Traceback (most recent call last)",
      "\u001b[1;32m<ipython-input-52-1fa117acd269>\u001b[0m in \u001b[0;36m<module>\u001b[1;34m\u001b[0m\n\u001b[0;32m      2\u001b[0m \u001b[1;31m# This means that in this directed network it is not possible to reach\u001b[0m\u001b[1;33m\u001b[0m\u001b[1;33m\u001b[0m\u001b[1;33m\u001b[0m\u001b[0m\n\u001b[0;32m      3\u001b[0m \u001b[1;31m# every node from each node, leading to an infinite diameter\u001b[0m\u001b[1;33m\u001b[0m\u001b[1;33m\u001b[0m\u001b[1;33m\u001b[0m\u001b[0m\n\u001b[1;32m----> 4\u001b[1;33m \u001b[0mnx\u001b[0m\u001b[1;33m.\u001b[0m\u001b[0mdiameter\u001b[0m\u001b[1;33m(\u001b[0m\u001b[0mg_dir\u001b[0m\u001b[1;33m)\u001b[0m\u001b[1;33m\u001b[0m\u001b[1;33m\u001b[0m\u001b[0m\n\u001b[0m",
      "\u001b[1;32m~\\Anaconda3\\lib\\site-packages\\networkx\\algorithms\\distance_measures.py\u001b[0m in \u001b[0;36mdiameter\u001b[1;34m(G, e, usebounds)\u001b[0m\n\u001b[0;32m    274\u001b[0m         \u001b[1;32mreturn\u001b[0m \u001b[0mextrema_bounding\u001b[0m\u001b[1;33m(\u001b[0m\u001b[0mG\u001b[0m\u001b[1;33m,\u001b[0m \u001b[0mcompute\u001b[0m\u001b[1;33m=\u001b[0m\u001b[1;34m\"diameter\"\u001b[0m\u001b[1;33m)\u001b[0m\u001b[1;33m\u001b[0m\u001b[1;33m\u001b[0m\u001b[0m\n\u001b[0;32m    275\u001b[0m     \u001b[1;32mif\u001b[0m \u001b[0me\u001b[0m \u001b[1;32mis\u001b[0m \u001b[1;32mNone\u001b[0m\u001b[1;33m:\u001b[0m\u001b[1;33m\u001b[0m\u001b[1;33m\u001b[0m\u001b[0m\n\u001b[1;32m--> 276\u001b[1;33m         \u001b[0me\u001b[0m \u001b[1;33m=\u001b[0m \u001b[0meccentricity\u001b[0m\u001b[1;33m(\u001b[0m\u001b[0mG\u001b[0m\u001b[1;33m)\u001b[0m\u001b[1;33m\u001b[0m\u001b[1;33m\u001b[0m\u001b[0m\n\u001b[0m\u001b[0;32m    277\u001b[0m     \u001b[1;32mreturn\u001b[0m \u001b[0mmax\u001b[0m\u001b[1;33m(\u001b[0m\u001b[0me\u001b[0m\u001b[1;33m.\u001b[0m\u001b[0mvalues\u001b[0m\u001b[1;33m(\u001b[0m\u001b[1;33m)\u001b[0m\u001b[1;33m)\u001b[0m\u001b[1;33m\u001b[0m\u001b[1;33m\u001b[0m\u001b[0m\n\u001b[0;32m    278\u001b[0m \u001b[1;33m\u001b[0m\u001b[0m\n",
      "\u001b[1;32m~\\Anaconda3\\lib\\site-packages\\networkx\\algorithms\\distance_measures.py\u001b[0m in \u001b[0;36meccentricity\u001b[1;34m(G, v, sp)\u001b[0m\n\u001b[0;32m    239\u001b[0m                 msg = ('Found infinite path length because the graph is not'\n\u001b[0;32m    240\u001b[0m                        ' connected')\n\u001b[1;32m--> 241\u001b[1;33m             \u001b[1;32mraise\u001b[0m \u001b[0mnetworkx\u001b[0m\u001b[1;33m.\u001b[0m\u001b[0mNetworkXError\u001b[0m\u001b[1;33m(\u001b[0m\u001b[0mmsg\u001b[0m\u001b[1;33m)\u001b[0m\u001b[1;33m\u001b[0m\u001b[1;33m\u001b[0m\u001b[0m\n\u001b[0m\u001b[0;32m    242\u001b[0m \u001b[1;33m\u001b[0m\u001b[0m\n\u001b[0;32m    243\u001b[0m         \u001b[0me\u001b[0m\u001b[1;33m[\u001b[0m\u001b[0mn\u001b[0m\u001b[1;33m]\u001b[0m \u001b[1;33m=\u001b[0m \u001b[0mmax\u001b[0m\u001b[1;33m(\u001b[0m\u001b[0mlength\u001b[0m\u001b[1;33m.\u001b[0m\u001b[0mvalues\u001b[0m\u001b[1;33m(\u001b[0m\u001b[1;33m)\u001b[0m\u001b[1;33m)\u001b[0m\u001b[1;33m\u001b[0m\u001b[1;33m\u001b[0m\u001b[0m\n",
      "\u001b[1;31mNetworkXError\u001b[0m: Found infinite path length because the digraph is not strongly connected"
     ]
    }
   ],
   "source": [
    "# Get the diameter - exception raised because diameter is infinite!\n",
    "# This means that in this directed network it is not possible to reach \n",
    "# every node from each node, leading to an infinite diameter\n",
    "nx.diameter(g_dir)"
   ]
  },
  {
   "cell_type": "code",
   "execution_count": 84,
   "metadata": {},
   "outputs": [
    {
     "data": {
      "text/plain": [
       "False"
      ]
     },
     "execution_count": 84,
     "metadata": {},
     "output_type": "execute_result"
    }
   ],
   "source": [
    "# Can confirm the above but checking the connectivity\n",
    "# Graph is not strongly connected but is weakly connected\n",
    "nx.is_strongly_connected(g_dir)"
   ]
  },
  {
   "cell_type": "code",
   "execution_count": 85,
   "metadata": {},
   "outputs": [
    {
     "data": {
      "text/plain": [
       "True"
      ]
     },
     "execution_count": 85,
     "metadata": {},
     "output_type": "execute_result"
    }
   ],
   "source": [
    "nx.is_weakly_connected(g_dir)"
   ]
  },
  {
   "cell_type": "code",
   "execution_count": 83,
   "metadata": {},
   "outputs": [
    {
     "data": {
      "text/plain": [
       "3"
      ]
     },
     "execution_count": 83,
     "metadata": {},
     "output_type": "execute_result"
    }
   ],
   "source": [
    "# So to get a diameter value the graph needs to be converted to an undirected\n",
    "# graph\n",
    "nx.diameter(g_dir.to_undirected())"
   ]
  },
  {
   "cell_type": "code",
   "execution_count": 88,
   "metadata": {},
   "outputs": [
    {
     "data": {
      "text/plain": [
       "6"
      ]
     },
     "execution_count": 88,
     "metadata": {},
     "output_type": "execute_result"
    }
   ],
   "source": [
    "# Or instead, you could get the strongly connected components of the directed graph. In this case this is just the nodes\n",
    "# where one of the nodes has a self loop\n",
    "\n",
    "# Get connected components\n",
    "scc = list(nx.strongly_connected_component_subgraphs(g_dir))\n",
    "len(scc)"
   ]
  },
  {
   "cell_type": "code",
   "execution_count": 90,
   "metadata": {},
   "outputs": [
    {
     "name": "stdout",
     "output_type": "stream",
     "text": [
      "0 0\n",
      "1 1\n",
      "2 0\n",
      "3 0\n",
      "4 0\n",
      "5 0\n"
     ]
    }
   ],
   "source": [
    "for i,g in enumerate(scc):\n",
    "    print(i, len(g.edges))"
   ]
  }
 ],
 "metadata": {
  "anaconda-cloud": {},
  "kernelspec": {
   "display_name": "Python 3",
   "language": "python",
   "name": "python3"
  },
  "language_info": {
   "codemirror_mode": {
    "name": "ipython",
    "version": 3
   },
   "file_extension": ".py",
   "mimetype": "text/x-python",
   "name": "python",
   "nbconvert_exporter": "python",
   "pygments_lexer": "ipython3",
   "version": "3.7.1"
  }
 },
 "nbformat": 4,
 "nbformat_minor": 1
}
