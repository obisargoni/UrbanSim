{
 "cells": [
  {
   "cell_type": "markdown",
   "metadata": {},
   "source": [
    "# Urban Simulation Networks 2\n",
    "## London Tube Network\n",
    "\n",
    "Need to check that station lat-longs are correct"
   ]
  },
  {
   "cell_type": "code",
   "execution_count": 6,
   "metadata": {
    "collapsed": true
   },
   "outputs": [],
   "source": [
    "%matplotlib inline\n",
    "import os\n",
    "import numpy as np\n",
    "import networkx as nx\n",
    "import pandas as pd\n",
    "import matplotlib.pyplot as plt\n",
    "\n",
    "# The python package geopadas is an extension of the data analysis library pandas for working with geographic data.\n",
    "# It is dependent on a lot of other packages to run, so could take a while to install if the dependencies are not\n",
    "# already installed.\n",
    "import geopandas as gpd"
   ]
  },
  {
   "cell_type": "code",
   "execution_count": 7,
   "metadata": {
    "collapsed": false
   },
   "outputs": [
    {
     "data": {
      "text/html": [
       "<div>\n",
       "<table border=\"1\" class=\"dataframe\">\n",
       "  <thead>\n",
       "    <tr style=\"text-align: right;\">\n",
       "      <th></th>\n",
       "      <th>distance</th>\n",
       "      <th>geometry</th>\n",
       "      <th>station_1</th>\n",
       "      <th>station_1_</th>\n",
       "      <th>station_2</th>\n",
       "      <th>station_2_</th>\n",
       "      <th>toid_seq</th>\n",
       "    </tr>\n",
       "  </thead>\n",
       "  <tbody>\n",
       "    <tr>\n",
       "      <th>0</th>\n",
       "      <td>416.586050</td>\n",
       "      <td>LINESTRING (-0.1571 51.5226, -0.1631 51.5225)</td>\n",
       "      <td>11</td>\n",
       "      <td>Baker Street</td>\n",
       "      <td>163</td>\n",
       "      <td>Marylebone</td>\n",
       "      <td>1</td>\n",
       "    </tr>\n",
       "    <tr>\n",
       "      <th>1</th>\n",
       "      <td>734.173636</td>\n",
       "      <td>LINESTRING (-0.1571 51.5226, -0.1466 51.5234)</td>\n",
       "      <td>11</td>\n",
       "      <td>Baker Street</td>\n",
       "      <td>212</td>\n",
       "      <td>Regent's Park</td>\n",
       "      <td>2</td>\n",
       "    </tr>\n",
       "    <tr>\n",
       "      <th>2</th>\n",
       "      <td>179.503418</td>\n",
       "      <td>LINESTRING (-0.1247 51.508, -0.1223 51.5074)</td>\n",
       "      <td>49</td>\n",
       "      <td>Charing Cross</td>\n",
       "      <td>87</td>\n",
       "      <td>Embankment</td>\n",
       "      <td>3</td>\n",
       "    </tr>\n",
       "    <tr>\n",
       "      <th>3</th>\n",
       "      <td>689.289845</td>\n",
       "      <td>LINESTRING (-0.1247 51.508, -0.1342 51.5098)</td>\n",
       "      <td>49</td>\n",
       "      <td>Charing Cross</td>\n",
       "      <td>197</td>\n",
       "      <td>Picadilly Circus</td>\n",
       "      <td>4</td>\n",
       "    </tr>\n",
       "    <tr>\n",
       "      <th>4</th>\n",
       "      <td>441.218104</td>\n",
       "      <td>LINESTRING (-0.1679 51.5199, -0.1631 51.5225)</td>\n",
       "      <td>82</td>\n",
       "      <td>Edgware Road (B)</td>\n",
       "      <td>163</td>\n",
       "      <td>Marylebone</td>\n",
       "      <td>5</td>\n",
       "    </tr>\n",
       "  </tbody>\n",
       "</table>\n",
       "</div>"
      ],
      "text/plain": [
       "     distance                                       geometry  station_1  \\\n",
       "0  416.586050  LINESTRING (-0.1571 51.5226, -0.1631 51.5225)         11   \n",
       "1  734.173636  LINESTRING (-0.1571 51.5226, -0.1466 51.5234)         11   \n",
       "2  179.503418   LINESTRING (-0.1247 51.508, -0.1223 51.5074)         49   \n",
       "3  689.289845   LINESTRING (-0.1247 51.508, -0.1342 51.5098)         49   \n",
       "4  441.218104  LINESTRING (-0.1679 51.5199, -0.1631 51.5225)         82   \n",
       "\n",
       "         station_1_  station_2        station_2_ toid_seq  \n",
       "0      Baker Street        163        Marylebone        1  \n",
       "1      Baker Street        212     Regent's Park        2  \n",
       "2     Charing Cross         87        Embankment        3  \n",
       "3     Charing Cross        197  Picadilly Circus        4  \n",
       "4  Edgware Road (B)        163        Marylebone        5  "
      ]
     },
     "execution_count": 7,
     "metadata": {},
     "output_type": "execute_result"
    }
   ],
   "source": [
    "# Set the directory to the data\n",
    "data_dir = \"..//data\"\n",
    "underground_dir = os.path.join(data_dir, \"underground\")\n",
    "\n",
    "file_network = os.path.join(data_dir, \"london_network.csv\")\n",
    "file_stations = os.path.join(data_dir, \"london_stations.csv\")\n",
    "shp_underground = os.path.join(underground_dir, \"underground.shp\")\n",
    "\n",
    "# Read in the shape file data to a geopandas dataframe\n",
    "gdf_tube = gpd.read_file(shp_underground)\n",
    "\n",
    "# Set the coordinate reference system\n",
    "gdf_tube.crs = {'init' :'epsg:4326'}\n",
    "gdf_tube.head()"
   ]
  },
  {
   "cell_type": "code",
   "execution_count": 8,
   "metadata": {
    "collapsed": false
   },
   "outputs": [
    {
     "data": {
      "text/plain": [
       "<matplotlib.axes._subplots.AxesSubplot at 0x12960d8db00>"
      ]
     },
     "execution_count": 8,
     "metadata": {},
     "output_type": "execute_result"
    },
    {
     "data": {
      "image/png": "[encoded data removed]",
      "text/plain": [
       "<matplotlib.figure.Figure at 0x12960d6f3c8>"
      ]
     },
     "metadata": {},
     "output_type": "display_data"
    }
   ],
   "source": [
    "# Plot the tube\n",
    "gdf_tube.plot()"
   ]
  },
  {
   "cell_type": "code",
   "execution_count": 9,
   "metadata": {
    "collapsed": false
   },
   "outputs": [
    {
     "data": {
      "text/plain": [
       "<matplotlib.axes._subplots.AxesSubplot at 0x129613b4828>"
      ]
     },
     "execution_count": 9,
     "metadata": {},
     "output_type": "execute_result"
    },
    {
     "data": {
      "image/png": "[encoded data removed]",
      "text/plain": [
       "<matplotlib.figure.Figure at 0x129613a5f98>"
      ]
     },
     "metadata": {},
     "output_type": "display_data"
    }
   ],
   "source": [
    "# Could also change the coordinate reference system and then plot, if desired\n",
    "gdf_tube.to_crs({'init': 'epsg:3395'}).plot()"
   ]
  },
  {
   "cell_type": "code",
   "execution_count": 10,
   "metadata": {
    "collapsed": false
   },
   "outputs": [
    {
     "data": {
      "text/html": [
       "<div>\n",
       "<table border=\"1\" class=\"dataframe\">\n",
       "  <thead>\n",
       "    <tr style=\"text-align: right;\">\n",
       "      <th></th>\n",
       "      <th>distance</th>\n",
       "      <th>geometry</th>\n",
       "      <th>station_1</th>\n",
       "      <th>station_1_</th>\n",
       "      <th>station_2</th>\n",
       "      <th>station_2_</th>\n",
       "      <th>toid_seq</th>\n",
       "      <th>linestring_length</th>\n",
       "    </tr>\n",
       "  </thead>\n",
       "  <tbody>\n",
       "    <tr>\n",
       "      <th>239</th>\n",
       "      <td>7115.148277</td>\n",
       "      <td>LINESTRING (-0.1803 51.5472, -0.2795 51.5635)</td>\n",
       "      <td>94</td>\n",
       "      <td>Finchley Road</td>\n",
       "      <td>282</td>\n",
       "      <td>Wembley Park</td>\n",
       "      <td>240</td>\n",
       "      <td>0.100530</td>\n",
       "    </tr>\n",
       "    <tr>\n",
       "      <th>228</th>\n",
       "      <td>5401.806740</td>\n",
       "      <td>LINESTRING (-0.5610000000000001 51.6679, -0.61...</td>\n",
       "      <td>46</td>\n",
       "      <td>Chalfont &amp; Latimer</td>\n",
       "      <td>50</td>\n",
       "      <td>Chesham</td>\n",
       "      <td>229</td>\n",
       "      <td>0.062380</td>\n",
       "    </tr>\n",
       "    <tr>\n",
       "      <th>230</th>\n",
       "      <td>3477.544282</td>\n",
       "      <td>LINESTRING (-0.5183 51.6543, -0.4733 51.6404)</td>\n",
       "      <td>53</td>\n",
       "      <td>Chorleywood</td>\n",
       "      <td>214</td>\n",
       "      <td>Rickmansworth</td>\n",
       "      <td>231</td>\n",
       "      <td>0.047098</td>\n",
       "    </tr>\n",
       "    <tr>\n",
       "      <th>229</th>\n",
       "      <td>3319.569379</td>\n",
       "      <td>LINESTRING (-0.5610000000000001 51.6679, -0.51...</td>\n",
       "      <td>46</td>\n",
       "      <td>Chalfont &amp; Latimer</td>\n",
       "      <td>53</td>\n",
       "      <td>Chorleywood</td>\n",
       "      <td>230</td>\n",
       "      <td>0.044814</td>\n",
       "    </tr>\n",
       "    <tr>\n",
       "      <th>223</th>\n",
       "      <td>3244.890006</td>\n",
       "      <td>LINESTRING (-0.607 51.6736, -0.561000000000000...</td>\n",
       "      <td>6</td>\n",
       "      <td>Amersham</td>\n",
       "      <td>46</td>\n",
       "      <td>Chalfont &amp; Latimer</td>\n",
       "      <td>224</td>\n",
       "      <td>0.046352</td>\n",
       "    </tr>\n",
       "  </tbody>\n",
       "</table>\n",
       "</div>"
      ],
      "text/plain": [
       "        distance                                           geometry  \\\n",
       "239  7115.148277      LINESTRING (-0.1803 51.5472, -0.2795 51.5635)   \n",
       "228  5401.806740  LINESTRING (-0.5610000000000001 51.6679, -0.61...   \n",
       "230  3477.544282      LINESTRING (-0.5183 51.6543, -0.4733 51.6404)   \n",
       "229  3319.569379  LINESTRING (-0.5610000000000001 51.6679, -0.51...   \n",
       "223  3244.890006  LINESTRING (-0.607 51.6736, -0.561000000000000...   \n",
       "\n",
       "     station_1          station_1_  station_2          station_2_ toid_seq  \\\n",
       "239         94       Finchley Road        282        Wembley Park      240   \n",
       "228         46  Chalfont & Latimer         50             Chesham      229   \n",
       "230         53         Chorleywood        214       Rickmansworth      231   \n",
       "229         46  Chalfont & Latimer         53         Chorleywood      230   \n",
       "223          6            Amersham         46  Chalfont & Latimer      224   \n",
       "\n",
       "     linestring_length  \n",
       "239           0.100530  \n",
       "228           0.062380  \n",
       "230           0.047098  \n",
       "229           0.044814  \n",
       "223           0.046352  "
      ]
     },
     "execution_count": 10,
     "metadata": {},
     "output_type": "execute_result"
    }
   ],
   "source": [
    "# Calculating the length of the linestring geometries assineged to each station pair \n",
    "# Why is this length diferent from the values in the distance field?\n",
    "gdf_tube['linestring_length'] = gdf_tube['geometry'].length\n",
    "\n",
    "# Find largest distance between stations using the 'distance' field\n",
    "gdf_tube.sort_values(by = 'distance', ascending=False, inplace=True)\n",
    "gdf_tube.head()\n",
    "\n",
    "# Finchley Road to Wembley Park is the largest link acording to the distance field"
   ]
  },
  {
   "cell_type": "code",
   "execution_count": 11,
   "metadata": {
    "collapsed": false
   },
   "outputs": [
    {
     "data": {
      "text/html": [
       "<div>\n",
       "<table border=\"1\" class=\"dataframe\">\n",
       "  <thead>\n",
       "    <tr style=\"text-align: right;\">\n",
       "      <th></th>\n",
       "      <th>distance</th>\n",
       "      <th>geometry</th>\n",
       "      <th>station_1</th>\n",
       "      <th>station_1_</th>\n",
       "      <th>station_2</th>\n",
       "      <th>station_2_</th>\n",
       "      <th>toid_seq</th>\n",
       "      <th>linestring_length</th>\n",
       "    </tr>\n",
       "  </thead>\n",
       "  <tbody>\n",
       "    <tr>\n",
       "      <th>244</th>\n",
       "      <td>2158.567464</td>\n",
       "      <td>LINESTRING (-0.4499 51.5538, -0.4786 51.5463)</td>\n",
       "      <td>125</td>\n",
       "      <td>Hillingdon</td>\n",
       "      <td>271</td>\n",
       "      <td>Uxbridge</td>\n",
       "      <td>245</td>\n",
       "      <td>0.029664</td>\n",
       "    </tr>\n",
       "    <tr>\n",
       "      <th>339</th>\n",
       "      <td>2158.567464</td>\n",
       "      <td>LINESTRING (-0.4499 51.5538, -0.4786 51.5463)</td>\n",
       "      <td>125</td>\n",
       "      <td>Hillingdon</td>\n",
       "      <td>271</td>\n",
       "      <td>Uxbridge</td>\n",
       "      <td>340</td>\n",
       "      <td>0.029664</td>\n",
       "    </tr>\n",
       "    <tr>\n",
       "      <th>102</th>\n",
       "      <td>2026.031984</td>\n",
       "      <td>LINESTRING (0.081 51.5396, 0.0518 51.5394)</td>\n",
       "      <td>15</td>\n",
       "      <td>Barking</td>\n",
       "      <td>78</td>\n",
       "      <td>East Ham</td>\n",
       "      <td>103</td>\n",
       "      <td>0.029201</td>\n",
       "    </tr>\n",
       "    <tr>\n",
       "      <th>174</th>\n",
       "      <td>2026.031984</td>\n",
       "      <td>LINESTRING (0.081 51.5396, 0.0518 51.5394)</td>\n",
       "      <td>15</td>\n",
       "      <td>Barking</td>\n",
       "      <td>78</td>\n",
       "      <td>East Ham</td>\n",
       "      <td>175</td>\n",
       "      <td>0.029201</td>\n",
       "    </tr>\n",
       "    <tr>\n",
       "      <th>245</th>\n",
       "      <td>1794.688161</td>\n",
       "      <td>LINESTRING (-0.4421 51.5619, -0.4213 51.5715)</td>\n",
       "      <td>134</td>\n",
       "      <td>Ickenham</td>\n",
       "      <td>220</td>\n",
       "      <td>Ruislip</td>\n",
       "      <td>246</td>\n",
       "      <td>0.022909</td>\n",
       "    </tr>\n",
       "  </tbody>\n",
       "</table>\n",
       "</div>"
      ],
      "text/plain": [
       "        distance                                       geometry  station_1  \\\n",
       "244  2158.567464  LINESTRING (-0.4499 51.5538, -0.4786 51.5463)        125   \n",
       "339  2158.567464  LINESTRING (-0.4499 51.5538, -0.4786 51.5463)        125   \n",
       "102  2026.031984     LINESTRING (0.081 51.5396, 0.0518 51.5394)         15   \n",
       "174  2026.031984     LINESTRING (0.081 51.5396, 0.0518 51.5394)         15   \n",
       "245  1794.688161  LINESTRING (-0.4421 51.5619, -0.4213 51.5715)        134   \n",
       "\n",
       "     station_1_  station_2 station_2_ toid_seq  linestring_length  \n",
       "244  Hillingdon        271   Uxbridge      245           0.029664  \n",
       "339  Hillingdon        271   Uxbridge      340           0.029664  \n",
       "102     Barking         78   East Ham      103           0.029201  \n",
       "174     Barking         78   East Ham      175           0.029201  \n",
       "245    Ickenham        220    Ruislip      246           0.022909  "
      ]
     },
     "execution_count": 11,
     "metadata": {},
     "output_type": "execute_result"
    }
   ],
   "source": [
    "# Check the data for pairs of duplicated nodes\n",
    "gdf_tube.loc[gdf_tube.duplicated(subset=['station_1','station_2'], keep=False)].head()"
   ]
  },
  {
   "cell_type": "code",
   "execution_count": 12,
   "metadata": {
    "collapsed": false
   },
   "outputs": [
    {
     "data": {
      "text/html": [
       "<div>\n",
       "<table border=\"1\" class=\"dataframe\">\n",
       "  <thead>\n",
       "    <tr style=\"text-align: right;\">\n",
       "      <th></th>\n",
       "      <th>distance</th>\n",
       "      <th>geometry</th>\n",
       "      <th>station_1</th>\n",
       "      <th>station_1_</th>\n",
       "      <th>station_2</th>\n",
       "      <th>station_2_</th>\n",
       "      <th>toid_seq</th>\n",
       "      <th>linestring_length</th>\n",
       "    </tr>\n",
       "  </thead>\n",
       "  <tbody>\n",
       "    <tr>\n",
       "      <th>225</th>\n",
       "      <td>3175.274183</td>\n",
       "      <td>LINESTRING (-0.1571 51.5226, -0.1803 51.5472)</td>\n",
       "      <td>11</td>\n",
       "      <td>Baker Street</td>\n",
       "      <td>94</td>\n",
       "      <td>Finchley Road</td>\n",
       "      <td>226</td>\n",
       "      <td>0.033814</td>\n",
       "    </tr>\n",
       "    <tr>\n",
       "      <th>197</th>\n",
       "      <td>1785.442777</td>\n",
       "      <td>LINESTRING (-0.1571 51.5226, -0.174 51.5347)</td>\n",
       "      <td>11</td>\n",
       "      <td>Baker Street</td>\n",
       "      <td>249</td>\n",
       "      <td>St. John's Wood</td>\n",
       "      <td>198</td>\n",
       "      <td>0.020785</td>\n",
       "    </tr>\n",
       "    <tr>\n",
       "      <th>196</th>\n",
       "      <td>1076.607648</td>\n",
       "      <td>LINESTRING (-0.1571 51.5226, -0.1494 51.5142)</td>\n",
       "      <td>11</td>\n",
       "      <td>Baker Street</td>\n",
       "      <td>28</td>\n",
       "      <td>Bond Street</td>\n",
       "      <td>197</td>\n",
       "      <td>0.011395</td>\n",
       "    </tr>\n",
       "    <tr>\n",
       "      <th>170</th>\n",
       "      <td>931.211577</td>\n",
       "      <td>LINESTRING (-0.1571 51.5226, -0.17 51.5203)</td>\n",
       "      <td>11</td>\n",
       "      <td>Baker Street</td>\n",
       "      <td>83</td>\n",
       "      <td>Edgware Road (C)</td>\n",
       "      <td>171</td>\n",
       "      <td>0.013103</td>\n",
       "    </tr>\n",
       "    <tr>\n",
       "      <th>75</th>\n",
       "      <td>931.211577</td>\n",
       "      <td>LINESTRING (-0.1571 51.5226, -0.17 51.5203)</td>\n",
       "      <td>11</td>\n",
       "      <td>Baker Street</td>\n",
       "      <td>83</td>\n",
       "      <td>Edgware Road (C)</td>\n",
       "      <td>76</td>\n",
       "      <td>0.013103</td>\n",
       "    </tr>\n",
       "    <tr>\n",
       "      <th>171</th>\n",
       "      <td>925.826411</td>\n",
       "      <td>LINESTRING (-0.1571 51.5226, -0.1439 51.5238)</td>\n",
       "      <td>11</td>\n",
       "      <td>Baker Street</td>\n",
       "      <td>104</td>\n",
       "      <td>Great Portland Street</td>\n",
       "      <td>172</td>\n",
       "      <td>0.013254</td>\n",
       "    </tr>\n",
       "    <tr>\n",
       "      <th>224</th>\n",
       "      <td>925.826411</td>\n",
       "      <td>LINESTRING (-0.1571 51.5226, -0.1439 51.5238)</td>\n",
       "      <td>11</td>\n",
       "      <td>Baker Street</td>\n",
       "      <td>104</td>\n",
       "      <td>Great Portland Street</td>\n",
       "      <td>225</td>\n",
       "      <td>0.013254</td>\n",
       "    </tr>\n",
       "    <tr>\n",
       "      <th>76</th>\n",
       "      <td>925.826411</td>\n",
       "      <td>LINESTRING (-0.1571 51.5226, -0.1439 51.5238)</td>\n",
       "      <td>11</td>\n",
       "      <td>Baker Street</td>\n",
       "      <td>104</td>\n",
       "      <td>Great Portland Street</td>\n",
       "      <td>77</td>\n",
       "      <td>0.013254</td>\n",
       "    </tr>\n",
       "    <tr>\n",
       "      <th>1</th>\n",
       "      <td>734.173636</td>\n",
       "      <td>LINESTRING (-0.1571 51.5226, -0.1466 51.5234)</td>\n",
       "      <td>11</td>\n",
       "      <td>Baker Street</td>\n",
       "      <td>212</td>\n",
       "      <td>Regent's Park</td>\n",
       "      <td>2</td>\n",
       "      <td>0.010530</td>\n",
       "    </tr>\n",
       "    <tr>\n",
       "      <th>0</th>\n",
       "      <td>416.586050</td>\n",
       "      <td>LINESTRING (-0.1571 51.5226, -0.1631 51.5225)</td>\n",
       "      <td>11</td>\n",
       "      <td>Baker Street</td>\n",
       "      <td>163</td>\n",
       "      <td>Marylebone</td>\n",
       "      <td>1</td>\n",
       "      <td>0.006001</td>\n",
       "    </tr>\n",
       "  </tbody>\n",
       "</table>\n",
       "</div>"
      ],
      "text/plain": [
       "        distance                                       geometry  station_1  \\\n",
       "225  3175.274183  LINESTRING (-0.1571 51.5226, -0.1803 51.5472)         11   \n",
       "197  1785.442777   LINESTRING (-0.1571 51.5226, -0.174 51.5347)         11   \n",
       "196  1076.607648  LINESTRING (-0.1571 51.5226, -0.1494 51.5142)         11   \n",
       "170   931.211577    LINESTRING (-0.1571 51.5226, -0.17 51.5203)         11   \n",
       "75    931.211577    LINESTRING (-0.1571 51.5226, -0.17 51.5203)         11   \n",
       "171   925.826411  LINESTRING (-0.1571 51.5226, -0.1439 51.5238)         11   \n",
       "224   925.826411  LINESTRING (-0.1571 51.5226, -0.1439 51.5238)         11   \n",
       "76    925.826411  LINESTRING (-0.1571 51.5226, -0.1439 51.5238)         11   \n",
       "1     734.173636  LINESTRING (-0.1571 51.5226, -0.1466 51.5234)         11   \n",
       "0     416.586050  LINESTRING (-0.1571 51.5226, -0.1631 51.5225)         11   \n",
       "\n",
       "       station_1_  station_2             station_2_ toid_seq  \\\n",
       "225  Baker Street         94          Finchley Road      226   \n",
       "197  Baker Street        249        St. John's Wood      198   \n",
       "196  Baker Street         28            Bond Street      197   \n",
       "170  Baker Street         83       Edgware Road (C)      171   \n",
       "75   Baker Street         83       Edgware Road (C)       76   \n",
       "171  Baker Street        104  Great Portland Street      172   \n",
       "224  Baker Street        104  Great Portland Street      225   \n",
       "76   Baker Street        104  Great Portland Street       77   \n",
       "1    Baker Street        212          Regent's Park        2   \n",
       "0    Baker Street        163             Marylebone        1   \n",
       "\n",
       "     linestring_length  \n",
       "225           0.033814  \n",
       "197           0.020785  \n",
       "196           0.011395  \n",
       "170           0.013103  \n",
       "75            0.013103  \n",
       "171           0.013254  \n",
       "224           0.013254  \n",
       "76            0.013254  \n",
       "1             0.010530  \n",
       "0             0.006001  "
      ]
     },
     "execution_count": 12,
     "metadata": {},
     "output_type": "execute_result"
    }
   ],
   "source": [
    "# Search the data for all the stations connected to Baker Street\n",
    "gdf_tube.loc[ gdf_tube['station_1_'] == 'Baker Street']"
   ]
  },
  {
   "cell_type": "code",
   "execution_count": 13,
   "metadata": {
    "collapsed": false,
    "scrolled": true
   },
   "outputs": [
    {
     "data": {
      "text/html": [
       "<div>\n",
       "<table border=\"1\" class=\"dataframe\">\n",
       "  <thead>\n",
       "    <tr style=\"text-align: right;\">\n",
       "      <th></th>\n",
       "      <th>distance</th>\n",
       "      <th>geometry</th>\n",
       "      <th>station_1</th>\n",
       "      <th>station_1_</th>\n",
       "      <th>station_2</th>\n",
       "      <th>station_2_</th>\n",
       "      <th>toid_seq</th>\n",
       "      <th>linestring_length</th>\n",
       "    </tr>\n",
       "  </thead>\n",
       "  <tbody>\n",
       "    <tr>\n",
       "      <th>225</th>\n",
       "      <td>3175.274183</td>\n",
       "      <td>LINESTRING (-0.1571 51.5226, -0.1803 51.5472)</td>\n",
       "      <td>11</td>\n",
       "      <td>Baker Street</td>\n",
       "      <td>94</td>\n",
       "      <td>Finchley Road</td>\n",
       "      <td>226</td>\n",
       "      <td>0.033814</td>\n",
       "    </tr>\n",
       "    <tr>\n",
       "      <th>197</th>\n",
       "      <td>1785.442777</td>\n",
       "      <td>LINESTRING (-0.1571 51.5226, -0.174 51.5347)</td>\n",
       "      <td>11</td>\n",
       "      <td>Baker Street</td>\n",
       "      <td>249</td>\n",
       "      <td>St. John's Wood</td>\n",
       "      <td>198</td>\n",
       "      <td>0.020785</td>\n",
       "    </tr>\n",
       "    <tr>\n",
       "      <th>196</th>\n",
       "      <td>1076.607648</td>\n",
       "      <td>LINESTRING (-0.1571 51.5226, -0.1494 51.5142)</td>\n",
       "      <td>11</td>\n",
       "      <td>Baker Street</td>\n",
       "      <td>28</td>\n",
       "      <td>Bond Street</td>\n",
       "      <td>197</td>\n",
       "      <td>0.011395</td>\n",
       "    </tr>\n",
       "    <tr>\n",
       "      <th>170</th>\n",
       "      <td>931.211577</td>\n",
       "      <td>LINESTRING (-0.1571 51.5226, -0.17 51.5203)</td>\n",
       "      <td>11</td>\n",
       "      <td>Baker Street</td>\n",
       "      <td>83</td>\n",
       "      <td>Edgware Road (C)</td>\n",
       "      <td>171</td>\n",
       "      <td>0.013103</td>\n",
       "    </tr>\n",
       "    <tr>\n",
       "      <th>75</th>\n",
       "      <td>931.211577</td>\n",
       "      <td>LINESTRING (-0.1571 51.5226, -0.17 51.5203)</td>\n",
       "      <td>11</td>\n",
       "      <td>Baker Street</td>\n",
       "      <td>83</td>\n",
       "      <td>Edgware Road (C)</td>\n",
       "      <td>76</td>\n",
       "      <td>0.013103</td>\n",
       "    </tr>\n",
       "    <tr>\n",
       "      <th>171</th>\n",
       "      <td>925.826411</td>\n",
       "      <td>LINESTRING (-0.1571 51.5226, -0.1439 51.5238)</td>\n",
       "      <td>11</td>\n",
       "      <td>Baker Street</td>\n",
       "      <td>104</td>\n",
       "      <td>Great Portland Street</td>\n",
       "      <td>172</td>\n",
       "      <td>0.013254</td>\n",
       "    </tr>\n",
       "    <tr>\n",
       "      <th>224</th>\n",
       "      <td>925.826411</td>\n",
       "      <td>LINESTRING (-0.1571 51.5226, -0.1439 51.5238)</td>\n",
       "      <td>11</td>\n",
       "      <td>Baker Street</td>\n",
       "      <td>104</td>\n",
       "      <td>Great Portland Street</td>\n",
       "      <td>225</td>\n",
       "      <td>0.013254</td>\n",
       "    </tr>\n",
       "    <tr>\n",
       "      <th>76</th>\n",
       "      <td>925.826411</td>\n",
       "      <td>LINESTRING (-0.1571 51.5226, -0.1439 51.5238)</td>\n",
       "      <td>11</td>\n",
       "      <td>Baker Street</td>\n",
       "      <td>104</td>\n",
       "      <td>Great Portland Street</td>\n",
       "      <td>77</td>\n",
       "      <td>0.013254</td>\n",
       "    </tr>\n",
       "    <tr>\n",
       "      <th>1</th>\n",
       "      <td>734.173636</td>\n",
       "      <td>LINESTRING (-0.1571 51.5226, -0.1466 51.5234)</td>\n",
       "      <td>11</td>\n",
       "      <td>Baker Street</td>\n",
       "      <td>212</td>\n",
       "      <td>Regent's Park</td>\n",
       "      <td>2</td>\n",
       "      <td>0.010530</td>\n",
       "    </tr>\n",
       "    <tr>\n",
       "      <th>0</th>\n",
       "      <td>416.586050</td>\n",
       "      <td>LINESTRING (-0.1571 51.5226, -0.1631 51.5225)</td>\n",
       "      <td>11</td>\n",
       "      <td>Baker Street</td>\n",
       "      <td>163</td>\n",
       "      <td>Marylebone</td>\n",
       "      <td>1</td>\n",
       "      <td>0.006001</td>\n",
       "    </tr>\n",
       "  </tbody>\n",
       "</table>\n",
       "</div>"
      ],
      "text/plain": [
       "        distance                                       geometry  station_1  \\\n",
       "225  3175.274183  LINESTRING (-0.1571 51.5226, -0.1803 51.5472)         11   \n",
       "197  1785.442777   LINESTRING (-0.1571 51.5226, -0.174 51.5347)         11   \n",
       "196  1076.607648  LINESTRING (-0.1571 51.5226, -0.1494 51.5142)         11   \n",
       "170   931.211577    LINESTRING (-0.1571 51.5226, -0.17 51.5203)         11   \n",
       "75    931.211577    LINESTRING (-0.1571 51.5226, -0.17 51.5203)         11   \n",
       "171   925.826411  LINESTRING (-0.1571 51.5226, -0.1439 51.5238)         11   \n",
       "224   925.826411  LINESTRING (-0.1571 51.5226, -0.1439 51.5238)         11   \n",
       "76    925.826411  LINESTRING (-0.1571 51.5226, -0.1439 51.5238)         11   \n",
       "1     734.173636  LINESTRING (-0.1571 51.5226, -0.1466 51.5234)         11   \n",
       "0     416.586050  LINESTRING (-0.1571 51.5226, -0.1631 51.5225)         11   \n",
       "\n",
       "       station_1_  station_2             station_2_ toid_seq  \\\n",
       "225  Baker Street         94          Finchley Road      226   \n",
       "197  Baker Street        249        St. John's Wood      198   \n",
       "196  Baker Street         28            Bond Street      197   \n",
       "170  Baker Street         83       Edgware Road (C)      171   \n",
       "75   Baker Street         83       Edgware Road (C)       76   \n",
       "171  Baker Street        104  Great Portland Street      172   \n",
       "224  Baker Street        104  Great Portland Street      225   \n",
       "76   Baker Street        104  Great Portland Street       77   \n",
       "1    Baker Street        212          Regent's Park        2   \n",
       "0    Baker Street        163             Marylebone        1   \n",
       "\n",
       "     linestring_length  \n",
       "225           0.033814  \n",
       "197           0.020785  \n",
       "196           0.011395  \n",
       "170           0.013103  \n",
       "75            0.013103  \n",
       "171           0.013254  \n",
       "224           0.013254  \n",
       "76            0.013254  \n",
       "1             0.010530  \n",
       "0             0.006001  "
      ]
     },
     "execution_count": 13,
     "metadata": {},
     "output_type": "execute_result"
    }
   ],
   "source": [
    "# Alternatively, use regular expressions to search for any station that begins with 'Baker' in case of poor data entry\n",
    "import re\n",
    "baker_re = re.compile('^Baker')\n",
    "baker_select_series = gdf_tube['station_1_'].map(lambda x: baker_re.search(x.strip()) is not None)\n",
    "\n",
    "gdf_tube.loc[baker_select_series]"
   ]
  },
  {
   "cell_type": "code",
   "execution_count": 14,
   "metadata": {
    "collapsed": false
   },
   "outputs": [
    {
     "name": "stdout",
     "output_type": "stream",
     "text": [
      "(array('d', [-0.1571, -0.1631]), array('d', [51.5226, 51.5225]))\n"
     ]
    },
    {
     "data": {
      "text/html": [
       "<div>\n",
       "<table border=\"1\" class=\"dataframe\">\n",
       "  <thead>\n",
       "    <tr style=\"text-align: right;\">\n",
       "      <th></th>\n",
       "      <th>station_id</th>\n",
       "      <th>station_nm</th>\n",
       "      <th>toid_seq</th>\n",
       "      <th>geometry</th>\n",
       "      <th>long</th>\n",
       "      <th>lat</th>\n",
       "    </tr>\n",
       "  </thead>\n",
       "  <tbody>\n",
       "    <tr>\n",
       "      <th>239</th>\n",
       "      <td>94</td>\n",
       "      <td>Finchley Road</td>\n",
       "      <td>240</td>\n",
       "      <td>LINESTRING (-0.1803 51.5472, -0.2795 51.5635)</td>\n",
       "      <td>-0.1803</td>\n",
       "      <td>51.5472</td>\n",
       "    </tr>\n",
       "    <tr>\n",
       "      <th>228</th>\n",
       "      <td>46</td>\n",
       "      <td>Chalfont &amp; Latimer</td>\n",
       "      <td>229</td>\n",
       "      <td>LINESTRING (-0.5610000000000001 51.6679, -0.61...</td>\n",
       "      <td>-0.5610</td>\n",
       "      <td>51.6679</td>\n",
       "    </tr>\n",
       "    <tr>\n",
       "      <th>230</th>\n",
       "      <td>53</td>\n",
       "      <td>Chorleywood</td>\n",
       "      <td>231</td>\n",
       "      <td>LINESTRING (-0.5183 51.6543, -0.4733 51.6404)</td>\n",
       "      <td>-0.5183</td>\n",
       "      <td>51.6543</td>\n",
       "    </tr>\n",
       "    <tr>\n",
       "      <th>229</th>\n",
       "      <td>46</td>\n",
       "      <td>Chalfont &amp; Latimer</td>\n",
       "      <td>230</td>\n",
       "      <td>LINESTRING (-0.5610000000000001 51.6679, -0.51...</td>\n",
       "      <td>-0.5610</td>\n",
       "      <td>51.6679</td>\n",
       "    </tr>\n",
       "    <tr>\n",
       "      <th>223</th>\n",
       "      <td>6</td>\n",
       "      <td>Amersham</td>\n",
       "      <td>224</td>\n",
       "      <td>LINESTRING (-0.607 51.6736, -0.561000000000000...</td>\n",
       "      <td>-0.6070</td>\n",
       "      <td>51.6736</td>\n",
       "    </tr>\n",
       "  </tbody>\n",
       "</table>\n",
       "</div>"
      ],
      "text/plain": [
       "     station_id          station_nm toid_seq  \\\n",
       "239          94       Finchley Road      240   \n",
       "228          46  Chalfont & Latimer      229   \n",
       "230          53         Chorleywood      231   \n",
       "229          46  Chalfont & Latimer      230   \n",
       "223           6            Amersham      224   \n",
       "\n",
       "                                              geometry    long      lat  \n",
       "239      LINESTRING (-0.1803 51.5472, -0.2795 51.5635) -0.1803  51.5472  \n",
       "228  LINESTRING (-0.5610000000000001 51.6679, -0.61... -0.5610  51.6679  \n",
       "230      LINESTRING (-0.5183 51.6543, -0.4733 51.6404) -0.5183  51.6543  \n",
       "229  LINESTRING (-0.5610000000000001 51.6679, -0.51... -0.5610  51.6679  \n",
       "223  LINESTRING (-0.607 51.6736, -0.561000000000000... -0.6070  51.6736  "
      ]
     },
     "execution_count": 14,
     "metadata": {},
     "output_type": "execute_result"
    }
   ],
   "source": [
    "# Create a geographic data frame of all the stations and their coordinates, with no duplicated stations\n",
    "gdf_stations1 = gdf_tube.reindex(columns = ['station_1','station_1_','toid_seq', 'geometry']).rename(columns = {'station_1':'station_id', 'station_1_':'station_nm'})\n",
    "gdf_stations2 = gdf_tube.reindex(columns = ['station_2','station_2_','toid_seq', 'geometry']).rename(columns = {'station_2':'station_id', 'station_2_':'station_nm'})\n",
    "\n",
    "# So, to view the coordinatates of a linesting view the y attribute of the linestring geometry\n",
    "# This gives an array of two lists, with longitude of the linestring coordinates\n",
    "# in the first list and latitudes in the second list:\n",
    "# array( [lon1,lon2],[lat1,lat2])\n",
    "print(gdf_stations1.loc[0,'geometry'].xy)\n",
    "\n",
    "# Extract this info into new lat lon fields in the geo dataframe\n",
    "# Now get the lat and longs of the stations from the linestring geometry\n",
    "gdf_stations1['long'] = gdf_stations1['geometry'].map(lambda x: x.xy[0][0])\n",
    "gdf_stations1['lat'] = gdf_stations1['geometry'].map(lambda x: x.xy[1][0])\n",
    "\n",
    "gdf_stations2['long'] = gdf_stations1['geometry'].map(lambda x: x.xy[0][1])\n",
    "gdf_stations2['lat'] = gdf_stations1['geometry'].map(lambda x: x.xy[1][1])\n",
    "\n",
    "# Now check the top rows of the geo dataframe\n",
    "gdf_stations1.head()"
   ]
  },
  {
   "cell_type": "code",
   "execution_count": 15,
   "metadata": {
    "collapsed": false
   },
   "outputs": [
    {
     "data": {
      "text/html": [
       "<div>\n",
       "<table border=\"1\" class=\"dataframe\">\n",
       "  <thead>\n",
       "    <tr style=\"text-align: right;\">\n",
       "      <th></th>\n",
       "      <th>station_id</th>\n",
       "      <th>station_nm</th>\n",
       "      <th>toid_seq</th>\n",
       "      <th>geometry</th>\n",
       "      <th>long</th>\n",
       "      <th>lat</th>\n",
       "    </tr>\n",
       "  </thead>\n",
       "  <tbody>\n",
       "    <tr>\n",
       "      <th>239</th>\n",
       "      <td>94</td>\n",
       "      <td>Finchley Road</td>\n",
       "      <td>240</td>\n",
       "      <td>LINESTRING (-0.1803 51.5472, -0.2795 51.5635)</td>\n",
       "      <td>-0.1803</td>\n",
       "      <td>51.5472</td>\n",
       "    </tr>\n",
       "    <tr>\n",
       "      <th>228</th>\n",
       "      <td>46</td>\n",
       "      <td>Chalfont &amp; Latimer</td>\n",
       "      <td>229</td>\n",
       "      <td>LINESTRING (-0.5610000000000001 51.6679, -0.61...</td>\n",
       "      <td>-0.5610</td>\n",
       "      <td>51.6679</td>\n",
       "    </tr>\n",
       "    <tr>\n",
       "      <th>230</th>\n",
       "      <td>53</td>\n",
       "      <td>Chorleywood</td>\n",
       "      <td>231</td>\n",
       "      <td>LINESTRING (-0.5183 51.6543, -0.4733 51.6404)</td>\n",
       "      <td>-0.5183</td>\n",
       "      <td>51.6543</td>\n",
       "    </tr>\n",
       "    <tr>\n",
       "      <th>223</th>\n",
       "      <td>6</td>\n",
       "      <td>Amersham</td>\n",
       "      <td>224</td>\n",
       "      <td>LINESTRING (-0.607 51.6736, -0.561000000000000...</td>\n",
       "      <td>-0.6070</td>\n",
       "      <td>51.6736</td>\n",
       "    </tr>\n",
       "    <tr>\n",
       "      <th>39</th>\n",
       "      <td>68</td>\n",
       "      <td>Debden</td>\n",
       "      <td>40</td>\n",
       "      <td>LINESTRING (0.0838 51.6455, 0.1033 51.6717)</td>\n",
       "      <td>0.0838</td>\n",
       "      <td>51.6455</td>\n",
       "    </tr>\n",
       "  </tbody>\n",
       "</table>\n",
       "</div>"
      ],
      "text/plain": [
       "     station_id          station_nm toid_seq  \\\n",
       "239          94       Finchley Road      240   \n",
       "228          46  Chalfont & Latimer      229   \n",
       "230          53         Chorleywood      231   \n",
       "223           6            Amersham      224   \n",
       "39           68              Debden       40   \n",
       "\n",
       "                                              geometry    long      lat  \n",
       "239      LINESTRING (-0.1803 51.5472, -0.2795 51.5635) -0.1803  51.5472  \n",
       "228  LINESTRING (-0.5610000000000001 51.6679, -0.61... -0.5610  51.6679  \n",
       "230      LINESTRING (-0.5183 51.6543, -0.4733 51.6404) -0.5183  51.6543  \n",
       "223  LINESTRING (-0.607 51.6736, -0.561000000000000... -0.6070  51.6736  \n",
       "39         LINESTRING (0.0838 51.6455, 0.1033 51.6717)  0.0838  51.6455  "
      ]
     },
     "execution_count": 15,
     "metadata": {},
     "output_type": "execute_result"
    }
   ],
   "source": [
    "# Combine the geo dataframes of 1st and 2nd stations and drop duplicate stations\n",
    "gdf_stations = pd.concat([gdf_stations1, gdf_stations2]).drop_duplicates(subset = 'station_id')\n",
    "gdf_stations.head()\n",
    "\n",
    "# Great, we have stations and their coordinates. Write this to file"
   ]
  },
  {
   "cell_type": "code",
   "execution_count": 16,
   "metadata": {
    "collapsed": false
   },
   "outputs": [],
   "source": [
    "# Now create a network of tube stations using the underground shape file data\n",
    "\n",
    "# Get dataframe of stations and weights (the distance between them)\n",
    "df_network = pd.DataFrame(gdf_tube.reindex(columns = ['station_1', 'station_2', 'distance']).rename(columns = {'distance':'weight'}))\n",
    "graph_tube = nx.from_pandas_dataframe(df_network, source = 'station_1', target = 'station_2', edge_attr='weight')\n",
    "\n",
    "# Save the tube network dataframe\n",
    "df_network.to_csv('../data/tube_network.csv', index = False)"
   ]
  },
  {
   "cell_type": "code",
   "execution_count": 17,
   "metadata": {
    "collapsed": false
   },
   "outputs": [],
   "source": [
    "# Check that the network has been created correctly by comparing to some other data\n",
    "df_network2 = pd.read_csv('../data/london_network.csv')\n",
    "graph_tube2 = nx.from_pandas_dataframe(df_network2, source = 'station_1',target = 'station_2', edge_attr='distance')"
   ]
  },
  {
   "cell_type": "code",
   "execution_count": 18,
   "metadata": {
    "collapsed": false
   },
   "outputs": [
    {
     "data": {
      "text/plain": [
       "True"
      ]
     },
     "execution_count": 18,
     "metadata": {},
     "output_type": "execute_result"
    }
   ],
   "source": [
    "# Check networks are isomorphic - an equivalence relation for graphs\n",
    "nx.is_isomorphic(graph_tube, graph_tube2)"
   ]
  },
  {
   "cell_type": "code",
   "execution_count": 19,
   "metadata": {
    "collapsed": false
   },
   "outputs": [
    {
     "name": "stderr",
     "output_type": "stream",
     "text": [
      "C:\\Anaconda3\\lib\\site-packages\\networkx\\drawing\\nx_pylab.py:126: MatplotlibDeprecationWarning: pyplot.hold is deprecated.\n",
      "    Future behavior will be consistent with the long-time default:\n",
      "    plot commands add elements without first clearing the\n",
      "    Axes and/or Figure.\n",
      "  b = plt.ishold()\n",
      "C:\\Anaconda3\\lib\\site-packages\\networkx\\drawing\\nx_pylab.py:138: MatplotlibDeprecationWarning: pyplot.hold is deprecated.\n",
      "    Future behavior will be consistent with the long-time default:\n",
      "    plot commands add elements without first clearing the\n",
      "    Axes and/or Figure.\n",
      "  plt.hold(b)\n",
      "C:\\Anaconda3\\lib\\site-packages\\matplotlib\\__init__.py:917: UserWarning: axes.hold is deprecated. Please remove it from your matplotlibrc and/or style files.\n",
      "  warnings.warn(self.msg_depr_set % key)\n",
      "C:\\Anaconda3\\lib\\site-packages\\matplotlib\\rcsetup.py:152: UserWarning: axes.hold is deprecated, will be removed in 3.0\n",
      "  warnings.warn(\"axes.hold is deprecated, will be removed in 3.0\")\n"
     ]
    },
    {
     "data": {
      "image/png": "[encoded data removed]",
      "text/plain": [
       "<matplotlib.figure.Figure at 0x1296139e358>"
      ]
     },
     "metadata": {},
     "output_type": "display_data"
    }
   ],
   "source": [
    "nx.draw(graph_tube)"
   ]
  },
  {
   "cell_type": "code",
   "execution_count": 25,
   "metadata": {
    "collapsed": false
   },
   "outputs": [
    {
     "name": "stderr",
     "output_type": "stream",
     "text": [
      "C:\\Anaconda3\\lib\\site-packages\\networkx\\drawing\\nx_pylab.py:126: MatplotlibDeprecationWarning: pyplot.hold is deprecated.\n",
      "    Future behavior will be consistent with the long-time default:\n",
      "    plot commands add elements without first clearing the\n",
      "    Axes and/or Figure.\n",
      "  b = plt.ishold()\n",
      "C:\\Anaconda3\\lib\\site-packages\\networkx\\drawing\\nx_pylab.py:138: MatplotlibDeprecationWarning: pyplot.hold is deprecated.\n",
      "    Future behavior will be consistent with the long-time default:\n",
      "    plot commands add elements without first clearing the\n",
      "    Axes and/or Figure.\n",
      "  plt.hold(b)\n",
      "C:\\Anaconda3\\lib\\site-packages\\matplotlib\\__init__.py:917: UserWarning: axes.hold is deprecated. Please remove it from your matplotlibrc and/or style files.\n",
      "  warnings.warn(self.msg_depr_set % key)\n",
      "C:\\Anaconda3\\lib\\site-packages\\matplotlib\\rcsetup.py:152: UserWarning: axes.hold is deprecated, will be removed in 3.0\n",
      "  warnings.warn(\"axes.hold is deprecated, will be removed in 3.0\")\n"
     ]
    },
    {
     "data": {
      "image/png": "[encoded data removed]",
      "text/plain": [
       "<matplotlib.figure.Figure at 0x12963e7a7f0>"
      ]
     },
     "metadata": {},
     "output_type": "display_data"
    }
   ],
   "source": [
    "# Try to make the drawing better\n",
    "\n",
    "# Use a spring layout for the points\n",
    "spring_pos = nx.spring_layout(graph_tube)\n",
    "nx.draw(graph_tube, spring_pos, width = 1, edge_color='grey', node_size=10, node_color='lightblue')"
   ]
  },
  {
   "cell_type": "code",
   "execution_count": 36,
   "metadata": {
    "collapsed": false
   },
   "outputs": [
    {
     "data": {
      "text/plain": [
       "38"
      ]
     },
     "execution_count": 36,
     "metadata": {},
     "output_type": "execute_result"
    }
   ],
   "source": [
    "# The plot can be improved further by calculating the betweenness centrality \n",
    "# of nodes and using this to colour the nodes.\n",
    "\n",
    "# Graph diameter without weights\n",
    "d = nx.diameter(graph_tube)\n",
    "d"
   ]
  },
  {
   "cell_type": "code",
   "execution_count": 64,
   "metadata": {
    "collapsed": false
   },
   "outputs": [],
   "source": [
    "# Calculate node betweenness centralities \n",
    "node_betcen = nx.betweenness_centrality(graph_tube, weight='weight')\n",
    "list_node_betcen = [v for k,v in node_betcen.items()]\n",
    "\n",
    "# use node betweenness to generate a pallett and node sizes\n",
    "\n",
    "# unpack betweenness values for each node into a list\n",
    "from matplotlib import cm # for generating colour maps\n",
    "redblue = cm.get_cmap('RdBu') # get a preset colourmap\n",
    "\n",
    "# Normalise betweenness centrality measures so that they lie between 0-1.\n",
    "# This is for generating colours and not for analysis\n",
    "max_betcen = float(max(list_node_betcen))\n",
    "list_node_betcen_norm = [i/max_betcen for i in list_node_betcen]\n",
    "palette = [redblue(i) for i in list_node_betcen_norm]\n",
    "node_sizes = [100*v for k,v in node_betcen.items()]"
   ]
  },
  {
   "cell_type": "code",
   "execution_count": 67,
   "metadata": {
    "collapsed": false
   },
   "outputs": [
    {
     "name": "stderr",
     "output_type": "stream",
     "text": [
      "C:\\Anaconda3\\lib\\site-packages\\networkx\\drawing\\nx_pylab.py:126: MatplotlibDeprecationWarning: pyplot.hold is deprecated.\n",
      "    Future behavior will be consistent with the long-time default:\n",
      "    plot commands add elements without first clearing the\n",
      "    Axes and/or Figure.\n",
      "  b = plt.ishold()\n",
      "C:\\Anaconda3\\lib\\site-packages\\networkx\\drawing\\nx_pylab.py:138: MatplotlibDeprecationWarning: pyplot.hold is deprecated.\n",
      "    Future behavior will be consistent with the long-time default:\n",
      "    plot commands add elements without first clearing the\n",
      "    Axes and/or Figure.\n",
      "  plt.hold(b)\n",
      "C:\\Anaconda3\\lib\\site-packages\\matplotlib\\__init__.py:917: UserWarning: axes.hold is deprecated. Please remove it from your matplotlibrc and/or style files.\n",
      "  warnings.warn(self.msg_depr_set % key)\n",
      "C:\\Anaconda3\\lib\\site-packages\\matplotlib\\rcsetup.py:152: UserWarning: axes.hold is deprecated, will be removed in 3.0\n",
      "  warnings.warn(\"axes.hold is deprecated, will be removed in 3.0\")\n"
     ]
    },
    {
     "data": {
      "image/png": "[encoded data removed]",
      "text/plain": [
       "<matplotlib.figure.Figure at 0x129643293c8>"
      ]
     },
     "metadata": {},
     "output_type": "display_data"
    }
   ],
   "source": [
    "pos = nx.spring_layout(graph_tube)\n",
    "nx.draw(graph_tube,pos, node_size = node_sizes, node_color = palette, width=0.5, edge_color='grey')"
   ]
  },
  {
   "cell_type": "code",
   "execution_count": null,
   "metadata": {
    "collapsed": false
   },
   "outputs": [],
   "source": []
  },
  {
   "cell_type": "code",
   "execution_count": null,
   "metadata": {
    "collapsed": false
   },
   "outputs": [],
   "source": []
  },
  {
   "cell_type": "code",
   "execution_count": null,
   "metadata": {
    "collapsed": true
   },
   "outputs": [],
   "source": []
  }
 ],
 "metadata": {
  "anaconda-cloud": {},
  "kernelspec": {
   "display_name": "Python [Root]",
   "language": "python",
   "name": "Python [Root]"
  },
  "language_info": {
   "codemirror_mode": {
    "name": "ipython",
    "version": 3
   },
   "file_extension": ".py",
   "mimetype": "text/x-python",
   "name": "python",
   "nbconvert_exporter": "python",
   "pygments_lexer": "ipython3",
   "version": "3.5.2"
  }
 },
 "nbformat": 4,
 "nbformat_minor": 2
}
