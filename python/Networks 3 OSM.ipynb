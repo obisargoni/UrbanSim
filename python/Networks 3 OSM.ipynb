{
 "cells": [
  {
   "cell_type": "markdown",
   "metadata": {},
   "source": [
    "## Urban Simulation Networks 3\n",
    "\n",
    "# Open Street Map Road Networks"
   ]
  },
  {
   "cell_type": "code",
   "execution_count": 1,
   "metadata": {
    "collapsed": true
   },
   "outputs": [],
   "source": [
    "%matplotlib inline\n",
    "import os\n",
    "import numpy as np\n",
    "import networkx as nx\n",
    "import pandas as pd\n",
    "import matplotlib.pyplot as plt\n",
    "\n",
    "# The python package geopadas is an extension of the data analysis library pandas for working with geographic data.\n",
    "# It is dependent on a lot of other packages to run, so could take a while to install if the dependencies are not\n",
    "# already installed.\n",
    "import geopandas as gpd"
   ]
  },
  {
   "cell_type": "code",
   "execution_count": 2,
   "metadata": {
    "collapsed": true
   },
   "outputs": [],
   "source": [
    "spatial_data_dir = \"..\\\\data\\\\Central_London_Shapefile\\\\shape\"\n",
    "road_shapefile = os.path.join(spatial_data_dir, \"roadsExplodedBNG.shp\")"
   ]
  },
  {
   "cell_type": "code",
   "execution_count": 3,
   "metadata": {
    "collapsed": true
   },
   "outputs": [],
   "source": [
    "gdf_roads = gpd.read_file(road_shapefile)"
   ]
  },
  {
   "cell_type": "code",
   "execution_count": 4,
   "metadata": {
    "collapsed": false
   },
   "outputs": [
    {
     "data": {
      "text/html": [
       "<div>\n",
       "<table border=\"1\" class=\"dataframe\">\n",
       "  <thead>\n",
       "    <tr style=\"text-align: right;\">\n",
       "      <th></th>\n",
       "      <th>LENGTH</th>\n",
       "      <th>WKT</th>\n",
       "      <th>bridge</th>\n",
       "      <th>geometry</th>\n",
       "      <th>maxspeed</th>\n",
       "      <th>name</th>\n",
       "      <th>oneway</th>\n",
       "      <th>osm_id</th>\n",
       "      <th>ref</th>\n",
       "      <th>type</th>\n",
       "    </tr>\n",
       "  </thead>\n",
       "  <tbody>\n",
       "    <tr>\n",
       "      <th>0</th>\n",
       "      <td>187.369101</td>\n",
       "      <td>None</td>\n",
       "      <td>0</td>\n",
       "      <td>LINESTRING (529483.8143688129 182281.611329109...</td>\n",
       "      <td>20.0</td>\n",
       "      <td>Grafton Way</td>\n",
       "      <td>1</td>\n",
       "      <td>31030</td>\n",
       "      <td>A400</td>\n",
       "      <td>trunk</td>\n",
       "    </tr>\n",
       "    <tr>\n",
       "      <th>1</th>\n",
       "      <td>79.939857</td>\n",
       "      <td>None</td>\n",
       "      <td>0</td>\n",
       "      <td>LINESTRING (529823.3187080636 181382.281772700...</td>\n",
       "      <td>30.0</td>\n",
       "      <td>Tottenham Court Road</td>\n",
       "      <td>1</td>\n",
       "      <td>31039</td>\n",
       "      <td>A400</td>\n",
       "      <td>primary</td>\n",
       "    </tr>\n",
       "    <tr>\n",
       "      <th>2</th>\n",
       "      <td>84.214560</td>\n",
       "      <td>None</td>\n",
       "      <td>0</td>\n",
       "      <td>LINESTRING (529204.4352785718 181858.334078438...</td>\n",
       "      <td>30.0</td>\n",
       "      <td>Cleveland Street</td>\n",
       "      <td>1</td>\n",
       "      <td>31959</td>\n",
       "      <td>None</td>\n",
       "      <td>tertiary</td>\n",
       "    </tr>\n",
       "    <tr>\n",
       "      <th>3</th>\n",
       "      <td>209.367879</td>\n",
       "      <td>None</td>\n",
       "      <td>0</td>\n",
       "      <td>LINESTRING (530611.3123231975 180841.654082292...</td>\n",
       "      <td>30.0</td>\n",
       "      <td>Aldwych</td>\n",
       "      <td>1</td>\n",
       "      <td>2190803</td>\n",
       "      <td>A4</td>\n",
       "      <td>primary</td>\n",
       "    </tr>\n",
       "    <tr>\n",
       "      <th>4</th>\n",
       "      <td>55.704402</td>\n",
       "      <td>None</td>\n",
       "      <td>0</td>\n",
       "      <td>LINESTRING (528840.0477737525 182211.829698606...</td>\n",
       "      <td>30.0</td>\n",
       "      <td>Euston Road</td>\n",
       "      <td>1</td>\n",
       "      <td>2191122</td>\n",
       "      <td>A501</td>\n",
       "      <td>trunk</td>\n",
       "    </tr>\n",
       "  </tbody>\n",
       "</table>\n",
       "</div>"
      ],
      "text/plain": [
       "       LENGTH   WKT  bridge  \\\n",
       "0  187.369101  None       0   \n",
       "1   79.939857  None       0   \n",
       "2   84.214560  None       0   \n",
       "3  209.367879  None       0   \n",
       "4   55.704402  None       0   \n",
       "\n",
       "                                            geometry  maxspeed  \\\n",
       "0  LINESTRING (529483.8143688129 182281.611329109...      20.0   \n",
       "1  LINESTRING (529823.3187080636 181382.281772700...      30.0   \n",
       "2  LINESTRING (529204.4352785718 181858.334078438...      30.0   \n",
       "3  LINESTRING (530611.3123231975 180841.654082292...      30.0   \n",
       "4  LINESTRING (528840.0477737525 182211.829698606...      30.0   \n",
       "\n",
       "                   name  oneway   osm_id   ref      type  \n",
       "0           Grafton Way       1    31030  A400     trunk  \n",
       "1  Tottenham Court Road       1    31039  A400   primary  \n",
       "2      Cleveland Street       1    31959  None  tertiary  \n",
       "3               Aldwych       1  2190803    A4   primary  \n",
       "4           Euston Road       1  2191122  A501     trunk  "
      ]
     },
     "execution_count": 4,
     "metadata": {},
     "output_type": "execute_result"
    }
   ],
   "source": [
    "gdf_roads.crs = {'init' :'epsg:4326'}\n",
    "\n",
    "# Geo dataframe of linestring geoetries representing roads\n",
    "gdf_roads.head()"
   ]
  },
  {
   "cell_type": "code",
   "execution_count": 5,
   "metadata": {
    "collapsed": false
   },
   "outputs": [
    {
     "name": "stdout",
     "output_type": "stream",
     "text": [
      "(3582, 10)\n",
      "LineString    3582\n",
      "Name: geometry, dtype: int64\n"
     ]
    }
   ],
   "source": [
    "# How many records?\n",
    "print(gdf_roads.shape)\n",
    "\n",
    "# Check the geometry types - all Linestrings\n",
    "print(gdf_roads['geometry'].map(lambda x: x.type).value_counts())"
   ]
  },
  {
   "cell_type": "code",
   "execution_count": 6,
   "metadata": {
    "collapsed": false
   },
   "outputs": [],
   "source": [
    "# Access a single linestring geometry\n",
    "line_graftton_way = gdf_roads.loc[0, \"geometry\"]"
   ]
  },
  {
   "cell_type": "code",
   "execution_count": 7,
   "metadata": {
    "collapsed": false
   },
   "outputs": [
    {
     "data": {
      "image/svg+xml": [
       "<svg xmlns=\"http://www.w3.org/2000/svg\" xmlns:xlink=\"http://www.w3.org/1999/xlink\" width=\"170.39841633790638\" height=\"113.44984861434205\" viewBox=\"529319.727004932 182174.4725329519 170.39841633790638 113.44984861434205\" preserveAspectRatio=\"xMinYMin meet\"><g transform=\"matrix(1,0,0,-1,0,364462.39491451817)\"><polyline fill=\"none\" stroke=\"#66cc99\" stroke-width=\"2.0\" points=\"529483.814368813,182281.6113291093 529479.0436674849,182278.15150009602 529427.0891960037,182246.78345147427 529423.0121066675,182243.34135236288 529413.4705441933,182236.4218160609 529389.5881977602,182220.2350710464 529338.3262862903,182188.8856223093 529336.2735316479,182187.7206165839 529326.038057389,182180.78358540888\" opacity=\"0.8\" /></g></svg>"
      ],
      "text/plain": [
       "<shapely.geometry.linestring.LineString at 0x16df6a6bac8>"
      ]
     },
     "execution_count": 7,
     "metadata": {},
     "output_type": "execute_result"
    }
   ],
   "source": [
    "line_graftton_way"
   ]
  },
  {
   "cell_type": "code",
   "execution_count": 8,
   "metadata": {
    "collapsed": false
   },
   "outputs": [
    {
     "name": "stdout",
     "output_type": "stream",
     "text": [
      "Linestring length: 187.36910057251944\n",
      "Number of coordinates: 9\n"
     ]
    }
   ],
   "source": [
    "print(\"Linestring length: {}\".format(line_graftton_way.length))\n",
    "\n",
    "# How many coordinates make up this linestring\n",
    "print(\"Number of coordinates: {}\".format(len(line_graftton_way.coords)))"
   ]
  },
  {
   "cell_type": "code",
   "execution_count": 9,
   "metadata": {
    "collapsed": true
   },
   "outputs": [],
   "source": [
    "# In R a SpatialPolygonDataFrame object must be converted to a dataframe object using \n",
    "# the tidy function. Here we only work with the data as a geopandas geodatafram\n",
    "# so this conversion isn't needed\n",
    "\n",
    "# But we do need to extract the data we need to create a network from the \n",
    "# geodataframe"
   ]
  },
  {
   "cell_type": "code",
   "execution_count": 10,
   "metadata": {
    "collapsed": false
   },
   "outputs": [
    {
     "data": {
      "text/plain": [
       "[(529483.814368813, 182281.6113291093),\n",
       " (529479.0436674849, 182278.15150009602),\n",
       " (529427.0891960037, 182246.78345147427),\n",
       " (529423.0121066675, 182243.34135236288),\n",
       " (529413.4705441933, 182236.4218160609),\n",
       " (529389.5881977602, 182220.2350710464),\n",
       " (529338.3262862903, 182188.8856223093),\n",
       " (529336.2735316479, 182187.7206165839),\n",
       " (529326.038057389, 182180.78358540888)]"
      ]
     },
     "execution_count": 10,
     "metadata": {},
     "output_type": "execute_result"
    }
   ],
   "source": [
    "# Each linestring is made up of multiple coordinates, for example:\n",
    "list(line_graftton_way.coords)"
   ]
  },
  {
   "cell_type": "code",
   "execution_count": 11,
   "metadata": {
    "collapsed": false
   },
   "outputs": [
    {
     "data": {
      "text/plain": [
       "(array('d', [529483.814368813, 529479.0436674849, 529427.0891960037, 529423.0121066675, 529413.4705441933, 529389.5881977602, 529338.3262862903, 529336.2735316479, 529326.038057389]),\n",
       " array('d', [182281.6113291093, 182278.15150009602, 182246.78345147427, 182243.34135236288, 182236.4218160609, 182220.2350710464, 182188.8856223093, 182187.7206165839, 182180.78358540888]))"
      ]
     },
     "execution_count": 11,
     "metadata": {},
     "output_type": "execute_result"
    }
   ],
   "source": [
    "line_graftton_way.xy"
   ]
  },
  {
   "cell_type": "code",
   "execution_count": 12,
   "metadata": {
    "collapsed": false
   },
   "outputs": [],
   "source": [
    "# To create the network, we must create a dataframe of all the coordinates\n",
    "df_road_coords = pd.DataFrame(columns = [\"x\", \"y\", \"id\"])"
   ]
  },
  {
   "cell_type": "code",
   "execution_count": 13,
   "metadata": {
    "collapsed": true
   },
   "outputs": [],
   "source": [
    "# Loop through the linestring and for each one add their coords to the new \n",
    "# geodataframe\n",
    "for row_id, row in gdf_roads.iterrows():\n",
    "    xy = row['geometry'].xy\n",
    "    df = pd.DataFrame({\"x\": xy[0], \"y\":xy[1], \"id\":row_id})\n",
    "    df_road_coords = pd.concat([df_road_coords, df], join='inner')\n",
    "    \n",
    "# Reinstace the index\n",
    "df_road_coords.index = np.arange(len(df_road_coords))"
   ]
  },
  {
   "cell_type": "code",
   "execution_count": 14,
   "metadata": {
    "collapsed": false
   },
   "outputs": [
    {
     "data": {
      "text/html": [
       "<div>\n",
       "<table border=\"1\" class=\"dataframe\">\n",
       "  <thead>\n",
       "    <tr style=\"text-align: right;\">\n",
       "      <th></th>\n",
       "      <th>id</th>\n",
       "      <th>x</th>\n",
       "      <th>y</th>\n",
       "    </tr>\n",
       "  </thead>\n",
       "  <tbody>\n",
       "    <tr>\n",
       "      <th>0</th>\n",
       "      <td>0.0</td>\n",
       "      <td>529483.814369</td>\n",
       "      <td>182281.611329</td>\n",
       "    </tr>\n",
       "    <tr>\n",
       "      <th>1</th>\n",
       "      <td>0.0</td>\n",
       "      <td>529479.043667</td>\n",
       "      <td>182278.151500</td>\n",
       "    </tr>\n",
       "    <tr>\n",
       "      <th>2</th>\n",
       "      <td>0.0</td>\n",
       "      <td>529427.089196</td>\n",
       "      <td>182246.783451</td>\n",
       "    </tr>\n",
       "    <tr>\n",
       "      <th>3</th>\n",
       "      <td>0.0</td>\n",
       "      <td>529423.012107</td>\n",
       "      <td>182243.341352</td>\n",
       "    </tr>\n",
       "    <tr>\n",
       "      <th>4</th>\n",
       "      <td>0.0</td>\n",
       "      <td>529413.470544</td>\n",
       "      <td>182236.421816</td>\n",
       "    </tr>\n",
       "  </tbody>\n",
       "</table>\n",
       "</div>"
      ],
      "text/plain": [
       "    id              x              y\n",
       "0  0.0  529483.814369  182281.611329\n",
       "1  0.0  529479.043667  182278.151500\n",
       "2  0.0  529427.089196  182246.783451\n",
       "3  0.0  529423.012107  182243.341352\n",
       "4  0.0  529413.470544  182236.421816"
      ]
     },
     "execution_count": 14,
     "metadata": {},
     "output_type": "execute_result"
    }
   ],
   "source": [
    "df_road_coords.head()"
   ]
  },
  {
   "cell_type": "code",
   "execution_count": 15,
   "metadata": {
    "collapsed": false
   },
   "outputs": [],
   "source": [
    "# The coordinates are in order so the second row coordinate connects to the first\n",
    "# Add new columns to hold the connecting coordinates\n",
    "df_road_coords.rename(columns={'x':'x1','y':'y1'}, inplace=True)\n",
    "dfB = df_road_coords[1:].rename(columns={'y1':'y2','x1':'x2'})\n",
    "dfB = dfB.append(pd.Series({'id':None,'y2':None, 'x2':None}), ignore_index=True)\n",
    "\n",
    "assert len(df_road_coords) == len(dfB)"
   ]
  },
  {
   "cell_type": "code",
   "execution_count": 16,
   "metadata": {
    "collapsed": false
   },
   "outputs": [],
   "source": [
    "df_road_coords = pd.merge(df_road_coords, dfB, left_index=True, right_index=True, how='outer', indicator=True)"
   ]
  },
  {
   "cell_type": "code",
   "execution_count": 17,
   "metadata": {
    "collapsed": false
   },
   "outputs": [
    {
     "data": {
      "text/html": [
       "<div>\n",
       "<table border=\"1\" class=\"dataframe\">\n",
       "  <thead>\n",
       "    <tr style=\"text-align: right;\">\n",
       "      <th></th>\n",
       "      <th>id_x</th>\n",
       "      <th>x1</th>\n",
       "      <th>y1</th>\n",
       "      <th>id_y</th>\n",
       "      <th>x2</th>\n",
       "      <th>y2</th>\n",
       "      <th>_merge</th>\n",
       "    </tr>\n",
       "  </thead>\n",
       "  <tbody>\n",
       "  </tbody>\n",
       "</table>\n",
       "</div>"
      ],
      "text/plain": [
       "Empty DataFrame\n",
       "Columns: [id_x, x1, y1, id_y, x2, y2, _merge]\n",
       "Index: []"
      ]
     },
     "execution_count": 17,
     "metadata": {},
     "output_type": "execute_result"
    }
   ],
   "source": [
    "# Check that all rows merged correctly - all good\n",
    "df_road_coords.loc[ df_road_coords['_merge'] != 'both']"
   ]
  },
  {
   "cell_type": "code",
   "execution_count": 18,
   "metadata": {
    "collapsed": false
   },
   "outputs": [
    {
     "data": {
      "text/html": [
       "<div>\n",
       "<table border=\"1\" class=\"dataframe\">\n",
       "  <thead>\n",
       "    <tr style=\"text-align: right;\">\n",
       "      <th></th>\n",
       "      <th>id_x</th>\n",
       "      <th>x1</th>\n",
       "      <th>y1</th>\n",
       "      <th>id_y</th>\n",
       "      <th>x2</th>\n",
       "      <th>y2</th>\n",
       "      <th>_merge</th>\n",
       "    </tr>\n",
       "  </thead>\n",
       "  <tbody>\n",
       "    <tr>\n",
       "      <th>0</th>\n",
       "      <td>0.0</td>\n",
       "      <td>529483.814369</td>\n",
       "      <td>182281.611329</td>\n",
       "      <td>0.0</td>\n",
       "      <td>529479.043667</td>\n",
       "      <td>182278.151500</td>\n",
       "      <td>both</td>\n",
       "    </tr>\n",
       "    <tr>\n",
       "      <th>1</th>\n",
       "      <td>0.0</td>\n",
       "      <td>529479.043667</td>\n",
       "      <td>182278.151500</td>\n",
       "      <td>0.0</td>\n",
       "      <td>529427.089196</td>\n",
       "      <td>182246.783451</td>\n",
       "      <td>both</td>\n",
       "    </tr>\n",
       "    <tr>\n",
       "      <th>2</th>\n",
       "      <td>0.0</td>\n",
       "      <td>529427.089196</td>\n",
       "      <td>182246.783451</td>\n",
       "      <td>0.0</td>\n",
       "      <td>529423.012107</td>\n",
       "      <td>182243.341352</td>\n",
       "      <td>both</td>\n",
       "    </tr>\n",
       "    <tr>\n",
       "      <th>3</th>\n",
       "      <td>0.0</td>\n",
       "      <td>529423.012107</td>\n",
       "      <td>182243.341352</td>\n",
       "      <td>0.0</td>\n",
       "      <td>529413.470544</td>\n",
       "      <td>182236.421816</td>\n",
       "      <td>both</td>\n",
       "    </tr>\n",
       "    <tr>\n",
       "      <th>4</th>\n",
       "      <td>0.0</td>\n",
       "      <td>529413.470544</td>\n",
       "      <td>182236.421816</td>\n",
       "      <td>0.0</td>\n",
       "      <td>529389.588198</td>\n",
       "      <td>182220.235071</td>\n",
       "      <td>both</td>\n",
       "    </tr>\n",
       "  </tbody>\n",
       "</table>\n",
       "</div>"
      ],
      "text/plain": [
       "   id_x             x1             y1  id_y             x2             y2  \\\n",
       "0   0.0  529483.814369  182281.611329   0.0  529479.043667  182278.151500   \n",
       "1   0.0  529479.043667  182278.151500   0.0  529427.089196  182246.783451   \n",
       "2   0.0  529427.089196  182246.783451   0.0  529423.012107  182243.341352   \n",
       "3   0.0  529423.012107  182243.341352   0.0  529413.470544  182236.421816   \n",
       "4   0.0  529413.470544  182236.421816   0.0  529389.588198  182220.235071   \n",
       "\n",
       "  _merge  \n",
       "0   both  \n",
       "1   both  \n",
       "2   both  \n",
       "3   both  \n",
       "4   both  "
      ]
     },
     "execution_count": 18,
     "metadata": {},
     "output_type": "execute_result"
    }
   ],
   "source": [
    "df_road_coords.head()"
   ]
  },
  {
   "cell_type": "code",
   "execution_count": 19,
   "metadata": {
    "collapsed": false
   },
   "outputs": [],
   "source": [
    "# Drop unwanted columns\n",
    "df_road_coords.drop(['id_x','id_y', '_merge'], axis=1, inplace=True)"
   ]
  },
  {
   "cell_type": "code",
   "execution_count": 20,
   "metadata": {
    "collapsed": false
   },
   "outputs": [],
   "source": [
    "# Get all points in a long dataframe and use to assign an ID to each coord\n",
    "points1 = df_road_coords.reindex(columns = ['x1', 'y1']).rename(columns = {'x1':'x', 'y1':'y'})\n",
    "points2 = df_road_coords.reindex(columns = ['x2', 'y2']).rename(columns = {'x2':'x', 'y2':'y'})\n",
    "points = pd.concat([points1, points2]).drop_duplicates()\n",
    "points['id'] = np.arange(len(points))"
   ]
  },
  {
   "cell_type": "code",
   "execution_count": 21,
   "metadata": {
    "collapsed": true
   },
   "outputs": [],
   "source": [
    "# Now join to the road coords dataframe to get the id of the start and end node\n",
    "df_road_coords = pd.merge(df_road_coords, points, left_on = ['x1','y1'], right_on = ['x','y'], how='left')\n",
    "df_road_coords = pd.merge(df_road_coords, points, left_on = ['x2','y2'], right_on = ['x','y'], how='left')"
   ]
  },
  {
   "cell_type": "code",
   "execution_count": 22,
   "metadata": {
    "collapsed": false
   },
   "outputs": [
    {
     "data": {
      "text/html": [
       "<div>\n",
       "<table border=\"1\" class=\"dataframe\">\n",
       "  <thead>\n",
       "    <tr style=\"text-align: right;\">\n",
       "      <th></th>\n",
       "      <th>x1</th>\n",
       "      <th>y1</th>\n",
       "      <th>x2</th>\n",
       "      <th>y2</th>\n",
       "      <th>x_x</th>\n",
       "      <th>y_x</th>\n",
       "      <th>id_x</th>\n",
       "      <th>x_y</th>\n",
       "      <th>y_y</th>\n",
       "      <th>id_y</th>\n",
       "    </tr>\n",
       "  </thead>\n",
       "  <tbody>\n",
       "    <tr>\n",
       "      <th>0</th>\n",
       "      <td>529483.814369</td>\n",
       "      <td>182281.611329</td>\n",
       "      <td>529479.043667</td>\n",
       "      <td>182278.151500</td>\n",
       "      <td>529483.814369</td>\n",
       "      <td>182281.611329</td>\n",
       "      <td>0</td>\n",
       "      <td>529479.043667</td>\n",
       "      <td>182278.151500</td>\n",
       "      <td>1</td>\n",
       "    </tr>\n",
       "    <tr>\n",
       "      <th>1</th>\n",
       "      <td>529479.043667</td>\n",
       "      <td>182278.151500</td>\n",
       "      <td>529427.089196</td>\n",
       "      <td>182246.783451</td>\n",
       "      <td>529479.043667</td>\n",
       "      <td>182278.151500</td>\n",
       "      <td>1</td>\n",
       "      <td>529427.089196</td>\n",
       "      <td>182246.783451</td>\n",
       "      <td>2</td>\n",
       "    </tr>\n",
       "    <tr>\n",
       "      <th>2</th>\n",
       "      <td>529427.089196</td>\n",
       "      <td>182246.783451</td>\n",
       "      <td>529423.012107</td>\n",
       "      <td>182243.341352</td>\n",
       "      <td>529427.089196</td>\n",
       "      <td>182246.783451</td>\n",
       "      <td>2</td>\n",
       "      <td>529423.012107</td>\n",
       "      <td>182243.341352</td>\n",
       "      <td>3</td>\n",
       "    </tr>\n",
       "    <tr>\n",
       "      <th>3</th>\n",
       "      <td>529423.012107</td>\n",
       "      <td>182243.341352</td>\n",
       "      <td>529413.470544</td>\n",
       "      <td>182236.421816</td>\n",
       "      <td>529423.012107</td>\n",
       "      <td>182243.341352</td>\n",
       "      <td>3</td>\n",
       "      <td>529413.470544</td>\n",
       "      <td>182236.421816</td>\n",
       "      <td>4</td>\n",
       "    </tr>\n",
       "    <tr>\n",
       "      <th>4</th>\n",
       "      <td>529413.470544</td>\n",
       "      <td>182236.421816</td>\n",
       "      <td>529389.588198</td>\n",
       "      <td>182220.235071</td>\n",
       "      <td>529413.470544</td>\n",
       "      <td>182236.421816</td>\n",
       "      <td>4</td>\n",
       "      <td>529389.588198</td>\n",
       "      <td>182220.235071</td>\n",
       "      <td>5</td>\n",
       "    </tr>\n",
       "  </tbody>\n",
       "</table>\n",
       "</div>"
      ],
      "text/plain": [
       "              x1             y1             x2             y2            x_x  \\\n",
       "0  529483.814369  182281.611329  529479.043667  182278.151500  529483.814369   \n",
       "1  529479.043667  182278.151500  529427.089196  182246.783451  529479.043667   \n",
       "2  529427.089196  182246.783451  529423.012107  182243.341352  529427.089196   \n",
       "3  529423.012107  182243.341352  529413.470544  182236.421816  529423.012107   \n",
       "4  529413.470544  182236.421816  529389.588198  182220.235071  529413.470544   \n",
       "\n",
       "             y_x  id_x            x_y            y_y  id_y  \n",
       "0  182281.611329     0  529479.043667  182278.151500     1  \n",
       "1  182278.151500     1  529427.089196  182246.783451     2  \n",
       "2  182246.783451     2  529423.012107  182243.341352     3  \n",
       "3  182243.341352     3  529413.470544  182236.421816     4  \n",
       "4  182236.421816     4  529389.588198  182220.235071     5  "
      ]
     },
     "execution_count": 22,
     "metadata": {},
     "output_type": "execute_result"
    }
   ],
   "source": [
    "df_road_coords.head()"
   ]
  },
  {
   "cell_type": "code",
   "execution_count": 25,
   "metadata": {
    "collapsed": false
   },
   "outputs": [],
   "source": [
    "# Tidy up\n",
    "df_road_coords = df_road_coords.reindex(columns = ['x1','y1','x2','y2','id_x','id_y'])\n",
    "df_road_coords.rename(columns = {'id_x':'id_start','id_y':'id_end'}, inplace=True)"
   ]
  },
  {
   "cell_type": "code",
   "execution_count": 32,
   "metadata": {
    "collapsed": false
   },
   "outputs": [],
   "source": [
    "# Calculate the distance\n",
    "df_road_coords['distance'] = np.sqrt(np.square(df_road_coords['x1'] - df_road_coords['x2']) + np.square(df_road_coords['y1'] - df_road_coords['y2']))"
   ]
  },
  {
   "cell_type": "code",
   "execution_count": 33,
   "metadata": {
    "collapsed": false
   },
   "outputs": [
    {
     "data": {
      "text/html": [
       "<div>\n",
       "<table border=\"1\" class=\"dataframe\">\n",
       "  <thead>\n",
       "    <tr style=\"text-align: right;\">\n",
       "      <th></th>\n",
       "      <th>x1</th>\n",
       "      <th>y1</th>\n",
       "      <th>x2</th>\n",
       "      <th>y2</th>\n",
       "      <th>id_start</th>\n",
       "      <th>id_end</th>\n",
       "      <th>distance</th>\n",
       "    </tr>\n",
       "  </thead>\n",
       "  <tbody>\n",
       "    <tr>\n",
       "      <th>0</th>\n",
       "      <td>529483.814369</td>\n",
       "      <td>182281.611329</td>\n",
       "      <td>529479.043667</td>\n",
       "      <td>182278.151500</td>\n",
       "      <td>0</td>\n",
       "      <td>1</td>\n",
       "      <td>5.893217</td>\n",
       "    </tr>\n",
       "    <tr>\n",
       "      <th>1</th>\n",
       "      <td>529479.043667</td>\n",
       "      <td>182278.151500</td>\n",
       "      <td>529427.089196</td>\n",
       "      <td>182246.783451</td>\n",
       "      <td>1</td>\n",
       "      <td>2</td>\n",
       "      <td>60.689551</td>\n",
       "    </tr>\n",
       "    <tr>\n",
       "      <th>2</th>\n",
       "      <td>529427.089196</td>\n",
       "      <td>182246.783451</td>\n",
       "      <td>529423.012107</td>\n",
       "      <td>182243.341352</td>\n",
       "      <td>2</td>\n",
       "      <td>3</td>\n",
       "      <td>5.335795</td>\n",
       "    </tr>\n",
       "    <tr>\n",
       "      <th>3</th>\n",
       "      <td>529423.012107</td>\n",
       "      <td>182243.341352</td>\n",
       "      <td>529413.470544</td>\n",
       "      <td>182236.421816</td>\n",
       "      <td>3</td>\n",
       "      <td>4</td>\n",
       "      <td>11.786492</td>\n",
       "    </tr>\n",
       "    <tr>\n",
       "      <th>4</th>\n",
       "      <td>529413.470544</td>\n",
       "      <td>182236.421816</td>\n",
       "      <td>529389.588198</td>\n",
       "      <td>182220.235071</td>\n",
       "      <td>4</td>\n",
       "      <td>5</td>\n",
       "      <td>28.850948</td>\n",
       "    </tr>\n",
       "  </tbody>\n",
       "</table>\n",
       "</div>"
      ],
      "text/plain": [
       "              x1             y1             x2             y2  id_start  \\\n",
       "0  529483.814369  182281.611329  529479.043667  182278.151500         0   \n",
       "1  529479.043667  182278.151500  529427.089196  182246.783451         1   \n",
       "2  529427.089196  182246.783451  529423.012107  182243.341352         2   \n",
       "3  529423.012107  182243.341352  529413.470544  182236.421816         3   \n",
       "4  529413.470544  182236.421816  529389.588198  182220.235071         4   \n",
       "\n",
       "   id_end   distance  \n",
       "0       1   5.893217  \n",
       "1       2  60.689551  \n",
       "2       3   5.335795  \n",
       "3       4  11.786492  \n",
       "4       5  28.850948  "
      ]
     },
     "execution_count": 33,
     "metadata": {},
     "output_type": "execute_result"
    }
   ],
   "source": [
    "df_road_coords.head()"
   ]
  },
  {
   "cell_type": "code",
   "execution_count": 34,
   "metadata": {
    "collapsed": true
   },
   "outputs": [],
   "source": [
    "# Drop the coordinate columns, these are no longer needed\n",
    "df_network = df_road_coords.reindex(columns = ['id_start','id_end','distance'])"
   ]
  },
  {
   "cell_type": "code",
   "execution_count": 35,
   "metadata": {
    "collapsed": true
   },
   "outputs": [],
   "source": [
    "# Save this\n",
    "df_network.to_csv(os.path.join(\"..\\\\data\\\\central_london_road_network.csv\"), index=False)"
   ]
  },
  {
   "cell_type": "code",
   "execution_count": 36,
   "metadata": {
    "collapsed": true
   },
   "outputs": [],
   "source": [
    "# Create a graphy using the dataframe\n",
    "graph_roads = nx.from_pandas_dataframe(df_network, source='id_start',\n",
    "                                      target='id_end', \n",
    "                                      edge_attr='distance')"
   ]
  },
  {
   "cell_type": "code",
   "execution_count": 38,
   "metadata": {
    "collapsed": false
   },
   "outputs": [
    {
     "data": {
      "text/plain": [
       "15755"
      ]
     },
     "execution_count": 38,
     "metadata": {},
     "output_type": "execute_result"
    }
   ],
   "source": [
    "len(graph_roads.edges())"
   ]
  },
  {
   "cell_type": "code",
   "execution_count": 39,
   "metadata": {
    "collapsed": false
   },
   "outputs": [
    {
     "data": {
      "text/plain": [
       "True"
      ]
     },
     "execution_count": 39,
     "metadata": {},
     "output_type": "execute_result"
    }
   ],
   "source": [
    "# Is the graph connected?\n",
    "nx.is_connected(graph_roads)"
   ]
  },
  {
   "cell_type": "code",
   "execution_count": 41,
   "metadata": {
    "collapsed": false
   },
   "outputs": [
    {
     "data": {
      "text/plain": [
       "1"
      ]
     },
     "execution_count": 41,
     "metadata": {},
     "output_type": "execute_result"
    }
   ],
   "source": [
    "# Is it strongly connected?\n",
    "nx.number_connected_components(graph_roads)"
   ]
  },
  {
   "cell_type": "code",
   "execution_count": null,
   "metadata": {
    "collapsed": true
   },
   "outputs": [],
   "source": [
    "# Getting different results to the R code. Need to compare the data"
   ]
  }
 ],
 "metadata": {
  "anaconda-cloud": {},
  "kernelspec": {
   "display_name": "Python [Anaconda3]",
   "language": "python",
   "name": "Python [Anaconda3]"
  },
  "language_info": {
   "codemirror_mode": {
    "name": "ipython",
    "version": 3
   },
   "file_extension": ".py",
   "mimetype": "text/x-python",
   "name": "python",
   "nbconvert_exporter": "python",
   "pygments_lexer": "ipython3",
   "version": "3.5.2"
  }
 },
 "nbformat": 4,
 "nbformat_minor": 0
}
